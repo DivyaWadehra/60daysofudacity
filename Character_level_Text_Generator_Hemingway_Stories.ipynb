{
  "nbformat": 4,
  "nbformat_minor": 0,
  "metadata": {
    "colab": {
      "name": "Character-level Text Generator Hemingway Stories.ipynb",
      "version": "0.3.2",
      "provenance": [],
      "collapsed_sections": [],
      "include_colab_link": true
    },
    "kernelspec": {
      "name": "python3",
      "display_name": "Python 3"
    },
    "accelerator": "GPU"
  },
  "cells": [
    {
      "cell_type": "markdown",
      "metadata": {
        "id": "view-in-github",
        "colab_type": "text"
      },
      "source": [
        "<a href=\"https://colab.research.google.com/github/reallygooday/60daysofudacity/blob/master/Character_level_Text_Generator_Hemingway_Stories.ipynb\" target=\"_parent\"><img src=\"https://colab.research.google.com/assets/colab-badge.svg\" alt=\"Open In Colab\"/></a>"
      ]
    },
    {
      "cell_type": "markdown",
      "metadata": {
        "id": "0TdtKB4a5SE4",
        "colab_type": "text"
      },
      "source": [
        "Link to Speech Generator:\n",
        "\n",
        "https://orbifold.net/default/torch-speech-generator/\n",
        "\n",
        "http://obamaspeeches.com/"
      ]
    },
    {
      "cell_type": "markdown",
      "metadata": {
        "id": "_jotaYvWuaFw",
        "colab_type": "text"
      },
      "source": [
        "\n",
        "https://colab.research.google.com/drive/1LpJ02Etz7dZe18WUU1OcCwRtJXwau1Gd#scrollTo=oM_bEYpUsJiT\n",
        "\n",
        "\n",
        "https://colab.research.google.com/drive/1LpJ02Etz7dZe18WUU1OcCwRtJXwau1Gd#scrollTo=_jotaYvWuaFw\n",
        "\n"
      ]
    },
    {
      "cell_type": "markdown",
      "metadata": {
        "id": "oM_bEYpUsJiT",
        "colab_type": "text"
      },
      "source": [
        "https://github.com/PacktPublishing/Python-Deep-Learning-Cookbook/blob/master/Chapter04/Chapter%204%20-%20Character-level%20text%20generation.ipynb"
      ]
    },
    {
      "cell_type": "code",
      "metadata": {
        "id": "fIseagVirh_S",
        "colab_type": "code",
        "colab": {
          "base_uri": "https://localhost:8080/",
          "height": 34
        },
        "outputId": "c395a4e4-0644-47dd-918d-bd51980222a5"
      },
      "source": [
        "from google.colab import drive\n",
        "drive.mount('/content/drive/')"
      ],
      "execution_count": 29,
      "outputs": [
        {
          "output_type": "stream",
          "text": [
            "Drive already mounted at /content/drive/; to attempt to forcibly remount, call drive.mount(\"/content/drive/\", force_remount=True).\n"
          ],
          "name": "stdout"
        }
      ]
    },
    {
      "cell_type": "code",
      "metadata": {
        "id": "hI3KiCIOr7uo",
        "colab_type": "code",
        "colab": {
          "base_uri": "https://localhost:8080/",
          "height": 34
        },
        "outputId": "10830c48-9dd2-4704-c9fa-9b315f123e17"
      },
      "source": [
        "!pip install unidecode"
      ],
      "execution_count": 30,
      "outputs": [
        {
          "output_type": "stream",
          "text": [
            "Requirement already satisfied: unidecode in /usr/local/lib/python3.6/dist-packages (1.1.1)\n"
          ],
          "name": "stdout"
        }
      ]
    },
    {
      "cell_type": "code",
      "metadata": {
        "id": "XYHtbG0Kr_Eg",
        "colab_type": "code",
        "colab": {}
      },
      "source": [
        "import unidecode\n",
        "import string\n",
        "import random\n",
        "import math\n",
        "\n",
        "import torch\n",
        "import torch.nn as nn\n",
        "from torch.autograd import Variable"
      ],
      "execution_count": 0,
      "outputs": []
    },
    {
      "cell_type": "code",
      "metadata": {
        "id": "fFSdN3nMsQOg",
        "colab_type": "code",
        "colab": {
          "base_uri": "https://localhost:8080/",
          "height": 34
        },
        "outputId": "b63214a6-e15d-4ff1-c5c0-ccd3d6e55c8b"
      },
      "source": [
        "all_characters = string.printable\n",
        "input_size = len(all_characters)\n",
        "output_size = input_size\n",
        "print(input_size)\n"
      ],
      "execution_count": 32,
      "outputs": [
        {
          "output_type": "stream",
          "text": [
            "100\n"
          ],
          "name": "stdout"
        }
      ]
    },
    {
      "cell_type": "code",
      "metadata": {
        "id": "IlLy-DDhsWwZ",
        "colab_type": "code",
        "colab": {}
      },
      "source": [
        "n_steps = 2000\n",
        "batch_size = 512\n",
        "hidden_size = 100\n",
        "n_layers = 2\n",
        "learning_rate = 0.01\n",
        "len_text = 200\n",
        "print_every = 50"
      ],
      "execution_count": 0,
      "outputs": []
    },
    {
      "cell_type": "code",
      "metadata": {
        "id": "e115_TwWsbCr",
        "colab_type": "code",
        "colab": {
          "base_uri": "https://localhost:8080/",
          "height": 354
        },
        "outputId": "5bacfc70-6854-4252-926c-a3893ffda28b"
      },
      "source": [
        "!ls '/content/drive/My Drive/Text Generator'"
      ],
      "execution_count": 34,
      "outputs": [
        {
          "output_type": "stream",
          "text": [
            "'generated_script2019-07-30 17:15:13.735175.txt'\n",
            " hemingway_stories.gdoc\n",
            " hemingway_stories.txt\n",
            " oliver.gdoc\n",
            " oliver.txt\n",
            " place2.gdoc\n",
            " place2.txt\n",
            " place.txt\n",
            "'preprocessed2019-07-30 17:06:00.732826.p'\n",
            "'preprocessed2019-07-30 17:06:42.389736.p'\n",
            "'preprocessed2019-07-30 17:14:12.698497.p'\n",
            "'preprocessed2019-07-30 17:17:30.349953.p'\n",
            " sel_hn_stories.csv\n",
            " sel_hn_stories.gsheet\n",
            "'trained_scriptGenModel2019-07-30 17:15:09.497845.pt'\n",
            "'trained_scriptGenModel2019-07-30 17:16:10.999422.pt'\n",
            "'trained_scriptGenModel2019-07-30 17:16:37.995327.pt'\n",
            "'trained_scriptGenModel2019-07-30 17:17:48.526540.pt'\n",
            "'trained_scriptGenModel2019-07-30 17:17:50.015998.pt'\n"
          ],
          "name": "stdout"
        }
      ]
    },
    {
      "cell_type": "code",
      "metadata": {
        "id": "kWB0nKiLshDv",
        "colab_type": "code",
        "colab": {}
      },
      "source": [
        "filename = '/content/drive/My Drive//Text Generator/hemingway_stories.txt'\n",
        "data = unidecode.unidecode(open(filename).read())\n",
        "len_data = len(data)"
      ],
      "execution_count": 0,
      "outputs": []
    },
    {
      "cell_type": "code",
      "metadata": {
        "id": "M26AZMMzsiST",
        "colab_type": "code",
        "colab": {
          "base_uri": "https://localhost:8080/",
          "height": 34
        },
        "outputId": "78b159ef-3a4c-4697-bcc3-3314d7865a56"
      },
      "source": [
        "print('file_len =', len_data)"
      ],
      "execution_count": 36,
      "outputs": [
        {
          "output_type": "stream",
          "text": [
            "file_len = 62837\n"
          ],
          "name": "stdout"
        }
      ]
    },
    {
      "cell_type": "code",
      "metadata": {
        "id": "_D4FadfmsbUJ",
        "colab_type": "code",
        "colab": {}
      },
      "source": [
        "def char_to_tensor(string):\n",
        "    tensor = torch.zeros(len(string)).long()\n",
        "    for c in range(len(string)):\n",
        "        try:\n",
        "            tensor[c] = all_characters.index(string[c])\n",
        "        except:\n",
        "            continue\n",
        "    return tensor"
      ],
      "execution_count": 0,
      "outputs": []
    },
    {
      "cell_type": "code",
      "metadata": {
        "id": "MaPL7bN2sbqF",
        "colab_type": "code",
        "colab": {}
      },
      "source": [
        "def batch_gen(length_text, batch_size):\n",
        "    X = torch.LongTensor(batch_size, length_text)\n",
        "    y = torch.LongTensor(batch_size, length_text)\n",
        "    for i in range(batch_size):\n",
        "        start_index = random.randint(0, len_data - length_text)\n",
        "        end_index = start_index + length_text + 1\n",
        "        text = data[start_index:end_index]\n",
        "        X[i] = char_to_tensor(text[:-1])\n",
        "        y[i] = char_to_tensor(text[1:])\n",
        "    X = Variable(X)\n",
        "    y = Variable(y)\n",
        "    X = X.cuda()\n",
        "    y = y.cuda()\n",
        "    return X, y"
      ],
      "execution_count": 0,
      "outputs": []
    },
    {
      "cell_type": "code",
      "metadata": {
        "id": "_tELA5zLsXGF",
        "colab_type": "code",
        "colab": {}
      },
      "source": [
        "class create_model(nn.Module):\n",
        "    def __init__(self, input_size, hidden_size, output_size, n_layers=1):\n",
        "        super(create_model, self).__init__()\n",
        "        self.input_size = input_size\n",
        "        self.hidden_size = hidden_size\n",
        "        self.output_size = output_size\n",
        "        self.n_layers = n_layers\n",
        "\n",
        "        self.encoder = nn.Embedding(input_size, hidden_size)\n",
        "        self.rnn = nn.GRU(hidden_size, hidden_size, n_layers)\n",
        "        self.decoder = nn.Linear(hidden_size, output_size)\n",
        "\n",
        "    def forward(self, input, hidden):\n",
        "        batch_size = input.size(0)\n",
        "        encoded = self.encoder(input)\n",
        "        output, hidden = self.rnn(encoded.view(1, batch_size, -1), hidden)\n",
        "        output = self.decoder(output.view(batch_size, -1))\n",
        "        return output, hidden\n",
        "\n",
        "    def init_hidden(self, batch_size):\n",
        "        return Variable(torch.zeros(self.n_layers, batch_size, self.hidden_size))"
      ],
      "execution_count": 0,
      "outputs": []
    },
    {
      "cell_type": "code",
      "metadata": {
        "id": "pPQ5gSdhtNjs",
        "colab_type": "code",
        "colab": {
          "base_uri": "https://localhost:8080/",
          "height": 105
        },
        "outputId": "fd3900b6-4f1b-461b-ec83-25d611b9144e"
      },
      "source": [
        "decoder_model = create_model(\n",
        "    input_size,\n",
        "    hidden_size,\n",
        "    output_size,\n",
        "    n_layers=n_layers,\n",
        ")\n",
        "\n",
        "opt = torch.optim.Adam(decoder_model.parameters(), lr=learning_rate)\n",
        "loss = nn.CrossEntropyLoss()\n",
        "decoder_model.cuda()"
      ],
      "execution_count": 40,
      "outputs": [
        {
          "output_type": "execute_result",
          "data": {
            "text/plain": [
              "create_model(\n",
              "  (encoder): Embedding(100, 100)\n",
              "  (rnn): GRU(100, 100, num_layers=2)\n",
              "  (decoder): Linear(in_features=100, out_features=100, bias=True)\n",
              ")"
            ]
          },
          "metadata": {
            "tags": []
          },
          "execution_count": 40
        }
      ]
    },
    {
      "cell_type": "code",
      "metadata": {
        "id": "QbIlcZfKtN9s",
        "colab_type": "code",
        "colab": {}
      },
      "source": [
        "def generate_text(decoder, start='The', predict_len=100):\n",
        "    hidden = decoder.init_hidden(1).cuda()\n",
        "    prime_input = Variable(char_to_tensor(start).unsqueeze(0)).cuda()\n",
        "    predicted = start\n",
        "\n",
        "    for p in range(len(start) - 1):\n",
        "        _, hidden = decoder(prime_input[:, p], hidden)\n",
        "        \n",
        "    x = prime_input[:,-1]\n",
        "    \n",
        "    for p in range(predict_len):\n",
        "        output, hidden = decoder(x, hidden)\n",
        "        output_dist = output.data.view(-1).div(0.8).exp()\n",
        "        # Add some randomness\n",
        "        top_i = torch.multinomial(output_dist, 1)[0]\n",
        "        predicted_char = all_characters[top_i]\n",
        "        predicted += predicted_char\n",
        "        x = Variable(char_to_tensor(predicted_char).unsqueeze(0)).cuda()\n",
        "    return predicted"
      ],
      "execution_count": 0,
      "outputs": []
    },
    {
      "cell_type": "code",
      "metadata": {
        "id": "CiSwabh-trIo",
        "colab_type": "code",
        "colab": {
          "base_uri": "https://localhost:8080/",
          "height": 613
        },
        "outputId": "8deb3fdd-47bf-4b87-f97a-54e8ed0b5b05"
      },
      "source": [
        "loss_avg = 0\n",
        "\n",
        "for i in range(n_steps):\n",
        "    X, y = batch_gen(len_text, batch_size)\n",
        "    hidden = decoder_model.init_hidden(batch_size).cuda()\n",
        "    decoder_model.zero_grad()\n",
        "    loss_total = 0\n",
        "\n",
        "    for c in range(len_text):\n",
        "        output, hidden = decoder_model(X[:,c], hidden)\n",
        "        loss_total += loss(output.view(batch_size, -1), y[:,c])\n",
        "\n",
        "    loss_total.backward()\n",
        "    opt.step()\n",
        "    loss_value = loss_total.data/ len_text\n",
        "    \n",
        "    loss_avg += loss_value\n",
        "\n",
        "    if i % print_every == 0:\n",
        "        print('Epoch {}: loss {}'.format(i, loss_avg))\n",
        "        print(generate_text(decoder_model, 'and', 100), '\\n')"
      ],
      "execution_count": 45,
      "outputs": [
        {
          "output_type": "stream",
          "text": [
            "Epoch 0: loss 1.699083924293518\n",
            "and and her.\n",
            "\n",
            "The belmit Mare was and the went to haght On cabuse the puzzi whoe rown. O the and fomcee \n",
            "\n",
            "Epoch 50: loss 76.79865264892578\n",
            "and the courses on\n",
            "ank of the waiter came old man home the horses about the breath one in and old man a \n",
            "\n",
            "Epoch 100: loss 138.6002960205078\n",
            "and with the doch every big\n",
            "gesth a bic. It was so you'll outting pulled his around\n",
            "treed out and get a \n",
            "\n"
          ],
          "name": "stdout"
        },
        {
          "output_type": "error",
          "ename": "RuntimeError",
          "evalue": "ignored",
          "traceback": [
            "\u001b[0;31m---------------------------------------------------------------------------\u001b[0m",
            "\u001b[0;31mRuntimeError\u001b[0m                              Traceback (most recent call last)",
            "\u001b[0;32m<ipython-input-45-1b232ad19032>\u001b[0m in \u001b[0;36m<module>\u001b[0;34m()\u001b[0m\n\u001b[1;32m      2\u001b[0m \u001b[0;34m\u001b[0m\u001b[0m\n\u001b[1;32m      3\u001b[0m \u001b[0;32mfor\u001b[0m \u001b[0mi\u001b[0m \u001b[0;32min\u001b[0m \u001b[0mrange\u001b[0m\u001b[0;34m(\u001b[0m\u001b[0mn_steps\u001b[0m\u001b[0;34m)\u001b[0m\u001b[0;34m:\u001b[0m\u001b[0;34m\u001b[0m\u001b[0;34m\u001b[0m\u001b[0m\n\u001b[0;32m----> 4\u001b[0;31m     \u001b[0mX\u001b[0m\u001b[0;34m,\u001b[0m \u001b[0my\u001b[0m \u001b[0;34m=\u001b[0m \u001b[0mbatch_gen\u001b[0m\u001b[0;34m(\u001b[0m\u001b[0mlen_text\u001b[0m\u001b[0;34m,\u001b[0m \u001b[0mbatch_size\u001b[0m\u001b[0;34m)\u001b[0m\u001b[0;34m\u001b[0m\u001b[0;34m\u001b[0m\u001b[0m\n\u001b[0m\u001b[1;32m      5\u001b[0m     \u001b[0mhidden\u001b[0m \u001b[0;34m=\u001b[0m \u001b[0mdecoder_model\u001b[0m\u001b[0;34m.\u001b[0m\u001b[0minit_hidden\u001b[0m\u001b[0;34m(\u001b[0m\u001b[0mbatch_size\u001b[0m\u001b[0;34m)\u001b[0m\u001b[0;34m.\u001b[0m\u001b[0mcuda\u001b[0m\u001b[0;34m(\u001b[0m\u001b[0;34m)\u001b[0m\u001b[0;34m\u001b[0m\u001b[0;34m\u001b[0m\u001b[0m\n\u001b[1;32m      6\u001b[0m     \u001b[0mdecoder_model\u001b[0m\u001b[0;34m.\u001b[0m\u001b[0mzero_grad\u001b[0m\u001b[0;34m(\u001b[0m\u001b[0;34m)\u001b[0m\u001b[0;34m\u001b[0m\u001b[0;34m\u001b[0m\u001b[0m\n",
            "\u001b[0;32m<ipython-input-38-0d1b125d1a1f>\u001b[0m in \u001b[0;36mbatch_gen\u001b[0;34m(length_text, batch_size)\u001b[0m\n\u001b[1;32m      6\u001b[0m         \u001b[0mend_index\u001b[0m \u001b[0;34m=\u001b[0m \u001b[0mstart_index\u001b[0m \u001b[0;34m+\u001b[0m \u001b[0mlength_text\u001b[0m \u001b[0;34m+\u001b[0m \u001b[0;36m1\u001b[0m\u001b[0;34m\u001b[0m\u001b[0;34m\u001b[0m\u001b[0m\n\u001b[1;32m      7\u001b[0m         \u001b[0mtext\u001b[0m \u001b[0;34m=\u001b[0m \u001b[0mdata\u001b[0m\u001b[0;34m[\u001b[0m\u001b[0mstart_index\u001b[0m\u001b[0;34m:\u001b[0m\u001b[0mend_index\u001b[0m\u001b[0;34m]\u001b[0m\u001b[0;34m\u001b[0m\u001b[0;34m\u001b[0m\u001b[0m\n\u001b[0;32m----> 8\u001b[0;31m         \u001b[0mX\u001b[0m\u001b[0;34m[\u001b[0m\u001b[0mi\u001b[0m\u001b[0;34m]\u001b[0m \u001b[0;34m=\u001b[0m \u001b[0mchar_to_tensor\u001b[0m\u001b[0;34m(\u001b[0m\u001b[0mtext\u001b[0m\u001b[0;34m[\u001b[0m\u001b[0;34m:\u001b[0m\u001b[0;34m-\u001b[0m\u001b[0;36m1\u001b[0m\u001b[0;34m]\u001b[0m\u001b[0;34m)\u001b[0m\u001b[0;34m\u001b[0m\u001b[0;34m\u001b[0m\u001b[0m\n\u001b[0m\u001b[1;32m      9\u001b[0m         \u001b[0my\u001b[0m\u001b[0;34m[\u001b[0m\u001b[0mi\u001b[0m\u001b[0;34m]\u001b[0m \u001b[0;34m=\u001b[0m \u001b[0mchar_to_tensor\u001b[0m\u001b[0;34m(\u001b[0m\u001b[0mtext\u001b[0m\u001b[0;34m[\u001b[0m\u001b[0;36m1\u001b[0m\u001b[0;34m:\u001b[0m\u001b[0;34m]\u001b[0m\u001b[0;34m)\u001b[0m\u001b[0;34m\u001b[0m\u001b[0;34m\u001b[0m\u001b[0m\n\u001b[1;32m     10\u001b[0m     \u001b[0mX\u001b[0m \u001b[0;34m=\u001b[0m \u001b[0mVariable\u001b[0m\u001b[0;34m(\u001b[0m\u001b[0mX\u001b[0m\u001b[0;34m)\u001b[0m\u001b[0;34m\u001b[0m\u001b[0;34m\u001b[0m\u001b[0m\n",
            "\u001b[0;31mRuntimeError\u001b[0m: The expanded size of the tensor (200) must match the existing size (199) at non-singleton dimension 0.  Target sizes: [200].  Tensor sizes: [199]"
          ]
        }
      ]
    }
  ]
}