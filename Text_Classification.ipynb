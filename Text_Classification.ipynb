{
  "nbformat": 4,
  "nbformat_minor": 0,
  "metadata": {
    "colab": {
      "name": "Text Classification.ipynb",
      "version": "0.3.2",
      "provenance": [],
      "collapsed_sections": [],
      "include_colab_link": true
    },
    "kernelspec": {
      "name": "python3",
      "display_name": "Python 3"
    },
    "accelerator": "GPU"
  },
  "cells": [
    {
      "cell_type": "markdown",
      "metadata": {
        "id": "view-in-github",
        "colab_type": "text"
      },
      "source": [
        "<a href=\"https://colab.research.google.com/github/reallygooday/60daysofudacity/blob/master/Text_Classification.ipynb\" target=\"_parent\"><img src=\"https://colab.research.google.com/assets/colab-badge.svg\" alt=\"Open In Colab\"/></a>"
      ]
    },
    {
      "cell_type": "markdown",
      "metadata": {
        "id": "Gg0UHqnbu2oN",
        "colab_type": "text"
      },
      "source": [
        "\n",
        "\n",
        "Colab Tricks:\n",
        "https://rohitmidha23.github.io/Colab-Tricks/"
      ]
    },
    {
      "cell_type": "markdown",
      "metadata": {
        "id": "gJini_448U8z",
        "colab_type": "text"
      },
      "source": [
        "https://colab.research.google.com/drive/1jPIq4hWxhG5KXulNst8ldAJMBtYeeUHb#scrollTo=gJini_448U8z"
      ]
    },
    {
      "cell_type": "code",
      "metadata": {
        "id": "OIr1dFjGuixt",
        "colab_type": "code",
        "colab": {}
      },
      "source": [
        "import numpy as np\n",
        "import pandas as pd\n",
        "import nltk\n",
        "import spacy\n",
        "from tqdm import tqdm\n",
        "import os\n",
        "import re\n",
        "import seaborn as sns\n",
        "import matplotlib.pyplot as plt\n",
        "\n",
        "%matplotlib inline"
      ],
      "execution_count": 0,
      "outputs": []
    },
    {
      "cell_type": "code",
      "metadata": {
        "id": "VwQEcZTtu5dJ",
        "colab_type": "code",
        "colab": {
          "base_uri": "https://localhost:8080/",
          "height": 407
        },
        "outputId": "f6c36fe6-9837-4871-e50f-cbd5d4d3548a"
      },
      "source": [
        "! pip install PyDrive"
      ],
      "execution_count": 5,
      "outputs": [
        {
          "output_type": "stream",
          "text": [
            "Collecting PyDrive\n",
            "\u001b[?25l  Downloading https://files.pythonhosted.org/packages/52/e0/0e64788e5dd58ce2d6934549676243dc69d982f198524be9b99e9c2a4fd5/PyDrive-1.3.1.tar.gz (987kB)\n",
            "\r\u001b[K     |▎                               | 10kB 21.1MB/s eta 0:00:01\r\u001b[K     |▋                               | 20kB 4.2MB/s eta 0:00:01\r\u001b[K     |█                               | 30kB 6.0MB/s eta 0:00:01\r\u001b[K     |█▎                              | 40kB 4.0MB/s eta 0:00:01\r\u001b[K     |█▋                              | 51kB 4.9MB/s eta 0:00:01\r\u001b[K     |██                              | 61kB 5.8MB/s eta 0:00:01\r\u001b[K     |██▎                             | 71kB 6.7MB/s eta 0:00:01\r\u001b[K     |██▋                             | 81kB 7.4MB/s eta 0:00:01\r\u001b[K     |███                             | 92kB 8.3MB/s eta 0:00:01\r\u001b[K     |███▎                            | 102kB 6.5MB/s eta 0:00:01\r\u001b[K     |███▋                            | 112kB 6.5MB/s eta 0:00:01\r\u001b[K     |████                            | 122kB 6.5MB/s eta 0:00:01\r\u001b[K     |████▎                           | 133kB 6.5MB/s eta 0:00:01\r\u001b[K     |████▋                           | 143kB 6.5MB/s eta 0:00:01\r\u001b[K     |█████                           | 153kB 6.5MB/s eta 0:00:01\r\u001b[K     |█████▎                          | 163kB 6.5MB/s eta 0:00:01\r\u001b[K     |█████▋                          | 174kB 6.5MB/s eta 0:00:01\r\u001b[K     |██████                          | 184kB 6.5MB/s eta 0:00:01\r\u001b[K     |██████▎                         | 194kB 6.5MB/s eta 0:00:01\r\u001b[K     |██████▋                         | 204kB 6.5MB/s eta 0:00:01\r\u001b[K     |███████                         | 215kB 6.5MB/s eta 0:00:01\r\u001b[K     |███████▎                        | 225kB 6.5MB/s eta 0:00:01\r\u001b[K     |███████▋                        | 235kB 6.5MB/s eta 0:00:01\r\u001b[K     |████████                        | 245kB 6.5MB/s eta 0:00:01\r\u001b[K     |████████▎                       | 256kB 6.5MB/s eta 0:00:01\r\u001b[K     |████████▋                       | 266kB 6.5MB/s eta 0:00:01\r\u001b[K     |█████████                       | 276kB 6.5MB/s eta 0:00:01\r\u001b[K     |█████████▎                      | 286kB 6.5MB/s eta 0:00:01\r\u001b[K     |█████████▋                      | 296kB 6.5MB/s eta 0:00:01\r\u001b[K     |██████████                      | 307kB 6.5MB/s eta 0:00:01\r\u001b[K     |██████████▎                     | 317kB 6.5MB/s eta 0:00:01\r\u001b[K     |██████████▋                     | 327kB 6.5MB/s eta 0:00:01\r\u001b[K     |███████████                     | 337kB 6.5MB/s eta 0:00:01\r\u001b[K     |███████████▎                    | 348kB 6.5MB/s eta 0:00:01\r\u001b[K     |███████████▋                    | 358kB 6.5MB/s eta 0:00:01\r\u001b[K     |████████████                    | 368kB 6.5MB/s eta 0:00:01\r\u001b[K     |████████████▎                   | 378kB 6.5MB/s eta 0:00:01\r\u001b[K     |████████████▋                   | 389kB 6.5MB/s eta 0:00:01\r\u001b[K     |█████████████                   | 399kB 6.5MB/s eta 0:00:01\r\u001b[K     |█████████████▎                  | 409kB 6.5MB/s eta 0:00:01\r\u001b[K     |█████████████▋                  | 419kB 6.5MB/s eta 0:00:01\r\u001b[K     |██████████████                  | 430kB 6.5MB/s eta 0:00:01\r\u001b[K     |██████████████▎                 | 440kB 6.5MB/s eta 0:00:01\r\u001b[K     |██████████████▋                 | 450kB 6.5MB/s eta 0:00:01\r\u001b[K     |███████████████                 | 460kB 6.5MB/s eta 0:00:01\r\u001b[K     |███████████████▎                | 471kB 6.5MB/s eta 0:00:01\r\u001b[K     |███████████████▋                | 481kB 6.5MB/s eta 0:00:01\r\u001b[K     |████████████████                | 491kB 6.5MB/s eta 0:00:01\r\u001b[K     |████████████████▎               | 501kB 6.5MB/s eta 0:00:01\r\u001b[K     |████████████████▋               | 512kB 6.5MB/s eta 0:00:01\r\u001b[K     |█████████████████               | 522kB 6.5MB/s eta 0:00:01\r\u001b[K     |█████████████████▎              | 532kB 6.5MB/s eta 0:00:01\r\u001b[K     |█████████████████▋              | 542kB 6.5MB/s eta 0:00:01\r\u001b[K     |██████████████████              | 552kB 6.5MB/s eta 0:00:01\r\u001b[K     |██████████████████▎             | 563kB 6.5MB/s eta 0:00:01\r\u001b[K     |██████████████████▋             | 573kB 6.5MB/s eta 0:00:01\r\u001b[K     |███████████████████             | 583kB 6.5MB/s eta 0:00:01\r\u001b[K     |███████████████████▎            | 593kB 6.5MB/s eta 0:00:01\r\u001b[K     |███████████████████▋            | 604kB 6.5MB/s eta 0:00:01\r\u001b[K     |████████████████████            | 614kB 6.5MB/s eta 0:00:01\r\u001b[K     |████████████████████▎           | 624kB 6.5MB/s eta 0:00:01\r\u001b[K     |████████████████████▋           | 634kB 6.5MB/s eta 0:00:01\r\u001b[K     |█████████████████████           | 645kB 6.5MB/s eta 0:00:01\r\u001b[K     |█████████████████████▎          | 655kB 6.5MB/s eta 0:00:01\r\u001b[K     |█████████████████████▋          | 665kB 6.5MB/s eta 0:00:01\r\u001b[K     |██████████████████████          | 675kB 6.5MB/s eta 0:00:01\r\u001b[K     |██████████████████████▎         | 686kB 6.5MB/s eta 0:00:01\r\u001b[K     |██████████████████████▋         | 696kB 6.5MB/s eta 0:00:01\r\u001b[K     |███████████████████████         | 706kB 6.5MB/s eta 0:00:01\r\u001b[K     |███████████████████████▎        | 716kB 6.5MB/s eta 0:00:01\r\u001b[K     |███████████████████████▋        | 727kB 6.5MB/s eta 0:00:01\r\u001b[K     |████████████████████████        | 737kB 6.5MB/s eta 0:00:01\r\u001b[K     |████████████████████████▎       | 747kB 6.5MB/s eta 0:00:01\r\u001b[K     |████████████████████████▋       | 757kB 6.5MB/s eta 0:00:01\r\u001b[K     |████████████████████████▉       | 768kB 6.5MB/s eta 0:00:01\r\u001b[K     |█████████████████████████▏      | 778kB 6.5MB/s eta 0:00:01\r\u001b[K     |█████████████████████████▌      | 788kB 6.5MB/s eta 0:00:01\r\u001b[K     |█████████████████████████▉      | 798kB 6.5MB/s eta 0:00:01\r\u001b[K     |██████████████████████████▏     | 808kB 6.5MB/s eta 0:00:01\r\u001b[K     |██████████████████████████▌     | 819kB 6.5MB/s eta 0:00:01\r\u001b[K     |██████████████████████████▉     | 829kB 6.5MB/s eta 0:00:01\r\u001b[K     |███████████████████████████▏    | 839kB 6.5MB/s eta 0:00:01\r\u001b[K     |███████████████████████████▌    | 849kB 6.5MB/s eta 0:00:01\r\u001b[K     |███████████████████████████▉    | 860kB 6.5MB/s eta 0:00:01\r\u001b[K     |████████████████████████████▏   | 870kB 6.5MB/s eta 0:00:01\r\u001b[K     |████████████████████████████▌   | 880kB 6.5MB/s eta 0:00:01\r\u001b[K     |████████████████████████████▉   | 890kB 6.5MB/s eta 0:00:01\r\u001b[K     |█████████████████████████████▏  | 901kB 6.5MB/s eta 0:00:01\r\u001b[K     |█████████████████████████████▌  | 911kB 6.5MB/s eta 0:00:01\r\u001b[K     |█████████████████████████████▉  | 921kB 6.5MB/s eta 0:00:01\r\u001b[K     |██████████████████████████████▏ | 931kB 6.5MB/s eta 0:00:01\r\u001b[K     |██████████████████████████████▌ | 942kB 6.5MB/s eta 0:00:01\r\u001b[K     |██████████████████████████████▉ | 952kB 6.5MB/s eta 0:00:01\r\u001b[K     |███████████████████████████████▏| 962kB 6.5MB/s eta 0:00:01\r\u001b[K     |███████████████████████████████▌| 972kB 6.5MB/s eta 0:00:01\r\u001b[K     |███████████████████████████████▉| 983kB 6.5MB/s eta 0:00:01\r\u001b[K     |████████████████████████████████| 993kB 6.5MB/s \n",
            "\u001b[?25hRequirement already satisfied: google-api-python-client>=1.2 in /usr/local/lib/python3.6/dist-packages (from PyDrive) (1.7.10)\n",
            "Requirement already satisfied: oauth2client>=4.0.0 in /usr/local/lib/python3.6/dist-packages (from PyDrive) (4.1.3)\n",
            "Requirement already satisfied: PyYAML>=3.0 in /usr/local/lib/python3.6/dist-packages (from PyDrive) (3.13)\n",
            "Requirement already satisfied: six<2dev,>=1.6.1 in /usr/local/lib/python3.6/dist-packages (from google-api-python-client>=1.2->PyDrive) (1.12.0)\n",
            "Requirement already satisfied: google-auth>=1.4.1 in /usr/local/lib/python3.6/dist-packages (from google-api-python-client>=1.2->PyDrive) (1.4.2)\n",
            "Requirement already satisfied: uritemplate<4dev,>=3.0.0 in /usr/local/lib/python3.6/dist-packages (from google-api-python-client>=1.2->PyDrive) (3.0.0)\n",
            "Requirement already satisfied: google-auth-httplib2>=0.0.3 in /usr/local/lib/python3.6/dist-packages (from google-api-python-client>=1.2->PyDrive) (0.0.3)\n",
            "Requirement already satisfied: httplib2<1dev,>=0.9.2 in /usr/local/lib/python3.6/dist-packages (from google-api-python-client>=1.2->PyDrive) (0.11.3)\n",
            "Requirement already satisfied: rsa>=3.1.4 in /usr/local/lib/python3.6/dist-packages (from oauth2client>=4.0.0->PyDrive) (4.0)\n",
            "Requirement already satisfied: pyasn1-modules>=0.0.5 in /usr/local/lib/python3.6/dist-packages (from oauth2client>=4.0.0->PyDrive) (0.2.6)\n",
            "Requirement already satisfied: pyasn1>=0.1.7 in /usr/local/lib/python3.6/dist-packages (from oauth2client>=4.0.0->PyDrive) (0.4.6)\n",
            "Requirement already satisfied: cachetools>=2.0.0 in /usr/local/lib/python3.6/dist-packages (from google-auth>=1.4.1->google-api-python-client>=1.2->PyDrive) (3.1.1)\n",
            "Building wheels for collected packages: PyDrive\n",
            "  Building wheel for PyDrive (setup.py) ... \u001b[?25l\u001b[?25hdone\n",
            "  Created wheel for PyDrive: filename=PyDrive-1.3.1-cp36-none-any.whl size=27435 sha256=8d8b7a8544b26dd5b08b1fb0678f72c38e9adc6dde4368973978949eee82f198\n",
            "  Stored in directory: /root/.cache/pip/wheels/fa/d2/9a/d3b6b506c2da98289e5d417215ce34b696db856643bad779f4\n",
            "Successfully built PyDrive\n",
            "Installing collected packages: PyDrive\n",
            "Successfully installed PyDrive-1.3.1\n"
          ],
          "name": "stdout"
        }
      ]
    },
    {
      "cell_type": "code",
      "metadata": {
        "id": "M9eq5XIPvZkY",
        "colab_type": "code",
        "colab": {}
      },
      "source": [
        "import os\n",
        "from pydrive.auth import GoogleAuth\n",
        "from pydrive.drive import GoogleDrive\n",
        "from google.colab import auth\n",
        "from oauth2client.client import GoogleCredentials"
      ],
      "execution_count": 0,
      "outputs": []
    },
    {
      "cell_type": "code",
      "metadata": {
        "id": "PIyOXDmBx6Fk",
        "colab_type": "code",
        "colab": {
          "resources": {
            "http://localhost:8080/nbextensions/google.colab/files.js": {
              "data": "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",
              "ok": true,
              "headers": [
                [
                  "content-type",
                  "application/javascript"
                ]
              ],
              "status": 200,
              "status_text": ""
            }
          },
          "base_uri": "https://localhost:8080/",
          "height": 37
        },
        "outputId": "f6f2f22a-2e2d-408d-ceac-80b55941d33a"
      },
      "source": [
        "from google.colab import files\n",
        "uploaded = files.upload()"
      ],
      "execution_count": 7,
      "outputs": [
        {
          "output_type": "display_data",
          "data": {
            "text/html": [
              "\n",
              "     <input type=\"file\" id=\"files-c2db8268-df13-4095-b214-979a7ad29ecb\" name=\"files[]\" multiple disabled />\n",
              "     <output id=\"result-c2db8268-df13-4095-b214-979a7ad29ecb\">\n",
              "      Upload widget is only available when the cell has been executed in the\n",
              "      current browser session. Please rerun this cell to enable.\n",
              "      </output>\n",
              "      <script src=\"/nbextensions/google.colab/files.js\"></script> "
            ],
            "text/plain": [
              "<IPython.core.display.HTML object>"
            ]
          },
          "metadata": {
            "tags": []
          }
        }
      ]
    },
    {
      "cell_type": "code",
      "metadata": {
        "id": "XeBAttkFvZ54",
        "colab_type": "code",
        "colab": {}
      },
      "source": [
        "auth.authenticate_user()\n",
        "gauth = GoogleAuth()\n",
        "gauth.credentials = GoogleCredentials.get_application_default()\n",
        "GoogleCredentials.get_application_default()\n",
        "drive = GoogleDrive(gauth)"
      ],
      "execution_count": 0,
      "outputs": []
    },
    {
      "cell_type": "code",
      "metadata": {
        "id": "D28Zp8CA2G_2",
        "colab_type": "code",
        "colab": {
          "base_uri": "https://localhost:8080/",
          "height": 125
        },
        "outputId": "1371e087-f098-4bdd-f83e-2e08aa2ae239"
      },
      "source": [
        "from google.colab import drive\n",
        "drive.mount('/content/drive/')"
      ],
      "execution_count": 9,
      "outputs": [
        {
          "output_type": "stream",
          "text": [
            "Go to this URL in a browser: https://accounts.google.com/o/oauth2/auth?client_id=947318989803-6bn6qk8qdgf4n4g3pfee6491hc0brc4i.apps.googleusercontent.com&redirect_uri=urn%3Aietf%3Awg%3Aoauth%3A2.0%3Aoob&scope=email%20https%3A%2F%2Fwww.googleapis.com%2Fauth%2Fdocs.test%20https%3A%2F%2Fwww.googleapis.com%2Fauth%2Fdrive%20https%3A%2F%2Fwww.googleapis.com%2Fauth%2Fdrive.photos.readonly%20https%3A%2F%2Fwww.googleapis.com%2Fauth%2Fpeopleapi.readonly&response_type=code\n",
            "\n",
            "Enter your authorization code:\n",
            "··········\n",
            "Mounted at /content/drive/\n"
          ],
          "name": "stdout"
        }
      ]
    },
    {
      "cell_type": "code",
      "metadata": {
        "id": "czfuamAb2Nvv",
        "colab_type": "code",
        "colab": {
          "base_uri": "https://localhost:8080/",
          "height": 34
        },
        "outputId": "4039e202-f298-4921-8d5f-17cb2c825e2d"
      },
      "source": [
        "!ls '/content/drive/My Drive/text_classification_project'"
      ],
      "execution_count": 11,
      "outputs": [
        {
          "output_type": "stream",
          "text": [
            "negative  positve  text_classification_project.ipynb\n"
          ],
          "name": "stdout"
        }
      ]
    },
    {
      "cell_type": "code",
      "metadata": {
        "id": "5_lpgu0cy2JT",
        "colab_type": "code",
        "colab": {}
      },
      "source": [
        "# load file names\n",
        "pos_files = os.listdir('/content/drive/My Drive/text_classification_project/positve/')\n",
        "neg_files = os.listdir('/content/drive/My Drive/text_classification_project/negative/')"
      ],
      "execution_count": 0,
      "outputs": []
    },
    {
      "cell_type": "code",
      "metadata": {
        "id": "YbKh1iyL2eHa",
        "colab_type": "code",
        "colab": {
          "base_uri": "https://localhost:8080/",
          "height": 34
        },
        "outputId": "8cd08a34-ae4c-49a2-d22e-19207bee16c5"
      },
      "source": [
        "print(pos_files[:10])"
      ],
      "execution_count": 13,
      "outputs": [
        {
          "output_type": "stream",
          "text": [
            "['4737_7.txt', '11567_8.txt', '9279_7.txt', '3227_7.txt', '703_10.txt', '8279_10.txt', '74_8.txt', '11908_8.txt', '1636_10.txt', '12177_7.txt']\n"
          ],
          "name": "stdout"
        }
      ]
    },
    {
      "cell_type": "code",
      "metadata": {
        "id": "C2dbHMc43oFS",
        "colab_type": "code",
        "colab": {
          "base_uri": "https://localhost:8080/",
          "height": 34
        },
        "outputId": "ed7ebea3-5650-4c22-a665-b6f2c8db6416"
      },
      "source": [
        "print(neg_files[:10])"
      ],
      "execution_count": 14,
      "outputs": [
        {
          "output_type": "stream",
          "text": [
            "[]\n"
          ],
          "name": "stdout"
        }
      ]
    },
    {
      "cell_type": "code",
      "metadata": {
        "id": "uZvajU7U3t_A",
        "colab_type": "code",
        "colab": {
          "base_uri": "https://localhost:8080/",
          "height": 34
        },
        "outputId": "00166f3f-7811-45fb-b214-172949c01030"
      },
      "source": [
        "len(pos_files), len(neg_files)"
      ],
      "execution_count": 15,
      "outputs": [
        {
          "output_type": "execute_result",
          "data": {
            "text/plain": [
              "(8743, 0)"
            ]
          },
          "metadata": {
            "tags": []
          },
          "execution_count": 15
        }
      ]
    },
    {
      "cell_type": "code",
      "metadata": {
        "id": "HkNJU4ax3zPK",
        "colab_type": "code",
        "colab": {}
      },
      "source": [
        "# function to read text files\n",
        "def read_review(filename):\n",
        "    # open the file as read only\n",
        "    file = open(filename, mode='rt', encoding='utf-8')\n",
        "    # read all text\n",
        "    text = file.read()\n",
        "    # close the file\n",
        "    file.close()\n",
        "    return text"
      ],
      "execution_count": 0,
      "outputs": []
    },
    {
      "cell_type": "code",
      "metadata": {
        "id": "ZR87IEEW34Mc",
        "colab_type": "code",
        "colab": {}
      },
      "source": [
        "# read and store positive reviews in a list\n",
        "pos = []\n",
        "\n",
        "for i in pos_files:\n",
        "    pos.append(read_review(\"/content/drive/My Drive/text_classification_project/positve/\"+i))\n",
        "    \n",
        "# read and store negative reviews in a list\n",
        "neg = []\n",
        "\n",
        "for i in neg_files:\n",
        "    neg.append(read_review(\"/content/drive/My Drive/text_classification_project/negative/\"+i))"
      ],
      "execution_count": 0,
      "outputs": []
    },
    {
      "cell_type": "code",
      "metadata": {
        "id": "r5aUajQk4I2d",
        "colab_type": "code",
        "colab": {}
      },
      "source": [
        "df = pd.DataFrame({'review':(pos+neg)})\n",
        "\n",
        "# '1' for positive reviews and '0' for negative reviews\n",
        "df['class'] = 0\n",
        "df['class'][:10000] = 1"
      ],
      "execution_count": 0,
      "outputs": []
    },
    {
      "cell_type": "code",
      "metadata": {
        "id": "J7VFXSdX4Oeh",
        "colab_type": "code",
        "colab": {}
      },
      "source": [
        "# check class distribution\n",
        "df['class'].value_counts()"
      ],
      "execution_count": 0,
      "outputs": []
    },
    {
      "cell_type": "code",
      "metadata": {
        "id": "69kqitCG4R6S",
        "colab_type": "code",
        "colab": {}
      },
      "source": [
        "df['review'][4]"
      ],
      "execution_count": 0,
      "outputs": []
    },
    {
      "cell_type": "code",
      "metadata": {
        "id": "7i6D1ZF04Z3E",
        "colab_type": "code",
        "colab": {}
      },
      "source": [
        "replace_1 = re.compile(\"(\\.)|(\\;)|(\\:)|(\\!)|(\\')|(\\?)|(\\,)|(\\\")|(\\()|(\\))|(\\[)|(\\])\")\n",
        "replace_2 = re.compile(\"(<br\\s*/><br\\s*/>)|(\\-)|(\\/)\")\n",
        "\n",
        "# function to clean text data\n",
        "def clean_reviews(reviews):\n",
        "    reviews = [replace_1.sub(\"\", line.lower()) for line in reviews]\n",
        "    reviews = [replace_2.sub(\" \", line) for line in reviews]\n",
        "    return reviews"
      ],
      "execution_count": 0,
      "outputs": []
    },
    {
      "cell_type": "code",
      "metadata": {
        "id": "kdAumCUz4fjR",
        "colab_type": "code",
        "colab": {}
      },
      "source": [
        "df['review'] = clean_reviews(df['review'])"
      ],
      "execution_count": 0,
      "outputs": []
    },
    {
      "cell_type": "code",
      "metadata": {
        "id": "No9u0kMs4kMM",
        "colab_type": "code",
        "colab": {}
      },
      "source": [
        "df['review'][4]"
      ],
      "execution_count": 0,
      "outputs": []
    },
    {
      "cell_type": "code",
      "metadata": {
        "id": "SxdBmIUB4kdP",
        "colab_type": "code",
        "colab": {}
      },
      "source": [
        "from nltk import FreqDist"
      ],
      "execution_count": 0,
      "outputs": []
    },
    {
      "cell_type": "code",
      "metadata": {
        "id": "9lJm3lBy4kwS",
        "colab_type": "code",
        "colab": {}
      },
      "source": [
        "# function to plot top n most frequent words\n",
        "def freq_words(x, terms = 30):\n",
        "  all_words = ' '.join([text for text in x])\n",
        "  all_words = all_words.split()\n",
        "  \n",
        "  fdist = FreqDist(all_words)\n",
        "  words_df = pd.DataFrame({'word':list(fdist.keys()), 'count':list(fdist.values())})\n",
        "  \n",
        "  # selecting top n most frequent words\n",
        "  d = words_df.nlargest(columns=\"count\", n = terms) \n",
        "  plt.figure(figsize=(20,5))\n",
        "  ax = sns.barplot(data=d, x= \"word\", y = \"count\")\n",
        "  ax.set(ylabel = 'Count')\n",
        "  plt.show()"
      ],
      "execution_count": 0,
      "outputs": []
    },
    {
      "cell_type": "code",
      "metadata": {
        "id": "QE3bBOYS4z9c",
        "colab_type": "code",
        "colab": {}
      },
      "source": [
        "freq_words(df['review'])"
      ],
      "execution_count": 0,
      "outputs": []
    },
    {
      "cell_type": "code",
      "metadata": {
        "id": "BM88eS-p40Pf",
        "colab_type": "code",
        "colab": {}
      },
      "source": [
        "nlp = spacy.load('en_core_web_sm')"
      ],
      "execution_count": 0,
      "outputs": []
    },
    {
      "cell_type": "code",
      "metadata": {
        "id": "AB_4Dr413-ym",
        "colab_type": "code",
        "colab": {}
      },
      "source": [
        "nlp.vocab['however'].is_stop = False\n",
        "nlp.vocab['no'].is_stop = False\n",
        "nlp.vocab['not'].is_stop = False\n",
        "nlp.vocab['but'].is_stop = False"
      ],
      "execution_count": 0,
      "outputs": []
    },
    {
      "cell_type": "code",
      "metadata": {
        "id": "2qxlwlNa3zoM",
        "colab_type": "code",
        "colab": {}
      },
      "source": [
        "# tokenization using spaCy\n",
        "def tokenization(x):\n",
        "    reviews_tokens = []\n",
        "    for i in tqdm(x):\n",
        "        i = nlp(i)\n",
        "        temp = []\n",
        "        for j in i:\n",
        "            temp.append(j.text)\n",
        "        reviews_tokens.append(temp)\n",
        "    \n",
        "    return reviews_tokens"
      ],
      "execution_count": 0,
      "outputs": []
    },
    {
      "cell_type": "code",
      "metadata": {
        "id": "4u6ZKVV16dol",
        "colab_type": "code",
        "colab": {}
      },
      "source": [
        "df['tokenized_review'] = tokenization(df['review'])"
      ],
      "execution_count": 0,
      "outputs": []
    },
    {
      "cell_type": "code",
      "metadata": {
        "id": "DtK-pDEx6d75",
        "colab_type": "code",
        "colab": {}
      },
      "source": [
        "# function to remove stopwords\n",
        "def strip_stopwords(reviews):\n",
        "    s = []\n",
        "    for r in tqdm(reviews):\n",
        "        s_2 = []\n",
        "        for token in r:\n",
        "            if nlp.vocab[token].is_stop == True:\n",
        "                continue\n",
        "            else:\n",
        "                s_2.append(token)\n",
        "        s.append(\" \".join(s_2))    \n",
        "        \n",
        "    return s"
      ],
      "execution_count": 0,
      "outputs": []
    },
    {
      "cell_type": "code",
      "metadata": {
        "id": "tWbEw-df6m2a",
        "colab_type": "code",
        "colab": {}
      },
      "source": [
        "df['review_cleaned'] = strip_stopwords(df['tokenized_review'])"
      ],
      "execution_count": 0,
      "outputs": []
    },
    {
      "cell_type": "code",
      "metadata": {
        "id": "53KkTrAD6rMF",
        "colab_type": "code",
        "colab": {}
      },
      "source": [
        "freq_words(df['review_cleaned'])"
      ],
      "execution_count": 0,
      "outputs": []
    },
    {
      "cell_type": "code",
      "metadata": {
        "id": "h7Lpwbob6rfa",
        "colab_type": "code",
        "colab": {}
      },
      "source": [
        "# remove 1 character terms (length == 1)\n",
        "df['review_cleaned'] = df['review_cleaned'].apply(lambda x: ' '.join([w for w in x.split() if len(w)>1]))"
      ],
      "execution_count": 0,
      "outputs": []
    },
    {
      "cell_type": "code",
      "metadata": {
        "id": "RUebQ6dx60-f",
        "colab_type": "code",
        "colab": {}
      },
      "source": [
        "freq_words(df['review_cleaned'])"
      ],
      "execution_count": 0,
      "outputs": []
    },
    {
      "cell_type": "code",
      "metadata": {
        "id": "Z8D604iH681l",
        "colab_type": "code",
        "colab": {}
      },
      "source": [
        ""
      ],
      "execution_count": 0,
      "outputs": []
    }
  ]
}