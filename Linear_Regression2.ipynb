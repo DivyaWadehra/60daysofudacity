{
  "nbformat": 4,
  "nbformat_minor": 0,
  "metadata": {
    "colab": {
      "name": "Linear Regression.ipynb",
      "provenance": [],
      "collapsed_sections": [],
      "include_colab_link": true
    },
    "kernelspec": {
      "name": "python3",
      "display_name": "Python 3"
    }
  },
  "cells": [
    {
      "cell_type": "markdown",
      "metadata": {
        "id": "view-in-github",
        "colab_type": "text"
      },
      "source": [
        "<a href=\"https://colab.research.google.com/github/reallygooday/60daysofudacity/blob/master/Linear_Regression2.ipynb\" target=\"_parent\"><img src=\"https://colab.research.google.com/assets/colab-badge.svg\" alt=\"Open In Colab\"/></a>"
      ]
    },
    {
      "cell_type": "markdown",
      "metadata": {
        "id": "U49RMqqGVkh-",
        "colab_type": "text"
      },
      "source": [
        "Link to Colab Jupyter Notebook: https://colab.research.google.com/drive/19QYWp_lExrN65b6OesWS9NNA7x0fHKmq#scrollTo=KOl9mFXs7ja8"
      ]
    },
    {
      "cell_type": "markdown",
      "metadata": {
        "id": "VDnq4tab-oXL",
        "colab_type": "text"
      },
      "source": [
        "#                                                                                                           Deep Learning using PyTorch\n",
        "\n",
        "Implementing Machine Learning based algorithm to train Linear Model to fit a set of data points.\n",
        "\n",
        "Getting comfortable making predictions by using Linear Model.\n"
      ]
    },
    {
      "cell_type": "markdown",
      "metadata": {
        "id": "fUIQv1tsACwL",
        "colab_type": "text"
      },
      "source": [
        "Machine Leraning is the concept of building algorithms that can learn based on experience to detect and predict meaningful patterns. \n",
        "\n",
        "In Supervised Learning, algorithms are trained to make use of labeled data. Once introduced to new input, the algoritms are able to predict a corresponding output."
      ]
    },
    {
      "cell_type": "code",
      "metadata": {
        "id": "KOl9mFXs7ja8",
        "colab_type": "code",
        "outputId": "638d79d4-dfcc-4a0b-b106-03d6bf4d4530",
        "colab": {
          "base_uri": "https://localhost:8080/",
          "height": 51
        }
      },
      "source": [
        "# import relevant Torch Library\n",
        "!pip3 install torch"
      ],
      "execution_count": 0,
      "outputs": [
        {
          "output_type": "stream",
          "text": [
            "Requirement already satisfied: torch in /usr/local/lib/python3.6/dist-packages (1.1.0)\n",
            "Requirement already satisfied: numpy in /usr/local/lib/python3.6/dist-packages (from torch) (1.16.4)\n"
          ],
          "name": "stdout"
        }
      ]
    },
    {
      "cell_type": "code",
      "metadata": {
        "id": "A0t41xRm7roJ",
        "colab_type": "code",
        "colab": {}
      },
      "source": [
        "import torch\n",
        "from torch.nn import Linear"
      ],
      "execution_count": 0,
      "outputs": []
    },
    {
      "cell_type": "code",
      "metadata": {
        "id": "4kf6z9eE7sG5",
        "colab_type": "code",
        "colab": {}
      },
      "source": [
        "w = torch.tensor(3.0, requires_grad=True) #weight\n",
        "b = torch.tensor(1.0, requires_grad=True)#bias\n",
        "\n"
      ],
      "execution_count": 0,
      "outputs": []
    },
    {
      "cell_type": "code",
      "metadata": {
        "id": "qtc-FG0I9cEK",
        "colab_type": "code",
        "colab": {}
      },
      "source": [
        "def forward(x): # forward-function with one argument\n",
        "  y =w*x + b\n",
        "  return y"
      ],
      "execution_count": 0,
      "outputs": []
    },
    {
      "cell_type": "code",
      "metadata": {
        "id": "njPW0Up59cqG",
        "colab_type": "code",
        "outputId": "cbeba014-4f32-46ec-fa6b-410915b2e8f6",
        "colab": {
          "base_uri": "https://localhost:8080/",
          "height": 34
        }
      },
      "source": [
        "x =torch.tensor(2)\n",
        "forward(x)"
      ],
      "execution_count": 0,
      "outputs": [
        {
          "output_type": "execute_result",
          "data": {
            "text/plain": [
              "tensor(7., grad_fn=<AddBackward0>)"
            ]
          },
          "metadata": {
            "tags": []
          },
          "execution_count": 6
        }
      ]
    },
    {
      "cell_type": "code",
      "metadata": {
        "id": "g_rzE0LG9c08",
        "colab_type": "code",
        "outputId": "737e78a4-4994-4f1a-dcfa-b0a5b8ccfdf7",
        "colab": {
          "base_uri": "https://localhost:8080/",
          "height": 51
        }
      },
      "source": [
        "x = torch.tensor([[4],[7]]) # making predictins for 4 and 7, two separate inputs\n",
        "forward(x)"
      ],
      "execution_count": 0,
      "outputs": [
        {
          "output_type": "execute_result",
          "data": {
            "text/plain": [
              "tensor([[13],\n",
              "        [22]], grad_fn=<AddBackward0>)"
            ]
          },
          "metadata": {
            "tags": []
          },
          "execution_count": 7
        }
      ]
    },
    {
      "cell_type": "markdown",
      "metadata": {
        "id": "Qlc68SpwCP3J",
        "colab_type": "text"
      },
      "source": [
        "\n",
        "\n",
        "\n",
        "\n",
        "*   13 is prediction for 4;\n",
        "*  22 is prediction for 7\n",
        "\n",
        "\n"
      ]
    },
    {
      "cell_type": "code",
      "metadata": {
        "id": "MH0ojxVrD_5P",
        "colab_type": "code",
        "outputId": "2171ebd0-f026-41aa-9c15-719cbaa1d22f",
        "colab": {
          "base_uri": "https://localhost:8080/",
          "height": 34
        }
      },
      "source": [
        "torch.manual_seed(1) # set a seed for generating random number for the Linear Class"
      ],
      "execution_count": 0,
      "outputs": [
        {
          "output_type": "execute_result",
          "data": {
            "text/plain": [
              "<torch._C.Generator at 0x7f3a0a43bd70>"
            ]
          },
          "metadata": {
            "tags": []
          },
          "execution_count": 8
        }
      ]
    },
    {
      "cell_type": "code",
      "metadata": {
        "id": "X8LqWVH9FMMd",
        "colab_type": "code",
        "outputId": "f4e2f9bb-f981-4c0f-ed38-6bdce4dafe08",
        "colab": {
          "base_uri": "https://localhost:8080/",
          "height": 68
        }
      },
      "source": [
        "model = Linear(in_features =1, out_features=1) # for every single input calculate single ouput\n",
        "print(model.bias, model.weight) # obtain the optimal parameters to fit the data"
      ],
      "execution_count": 0,
      "outputs": [
        {
          "output_type": "stream",
          "text": [
            "Parameter containing:\n",
            "tensor([-0.4414], requires_grad=True) Parameter containing:\n",
            "tensor([[0.5153]], requires_grad=True)\n"
          ],
          "name": "stdout"
        }
      ]
    },
    {
      "cell_type": "code",
      "metadata": {
        "id": "ZJHjQ-j5GHHb",
        "colab_type": "code",
        "colab": {}
      },
      "source": [
        "x = torch.tensor([2.0]) # float number\n",
        "\n",
        " # passing x as input"
      ],
      "execution_count": 0,
      "outputs": []
    },
    {
      "cell_type": "code",
      "metadata": {
        "id": "POB0dF_WGIaE",
        "colab_type": "code",
        "outputId": "207001ce-1c12-49d6-ef6f-808ff24e0410",
        "colab": {
          "base_uri": "https://localhost:8080/",
          "height": 51
        }
      },
      "source": [
        "# passing multiple input\n",
        "x = torch.tensor([[2.0],[3.3]])\n",
        "model(x)"
      ],
      "execution_count": 0,
      "outputs": [
        {
          "output_type": "execute_result",
          "data": {
            "text/plain": [
              "tensor([[0.5891],\n",
              "        [1.2590]], grad_fn=<AddmmBackward>)"
            ]
          },
          "metadata": {
            "tags": []
          },
          "execution_count": 12
        }
      ]
    },
    {
      "cell_type": "code",
      "metadata": {
        "id": "O-atonvDJUrP",
        "colab_type": "code",
        "colab": {}
      },
      "source": [
        "import torch.nn as nn"
      ],
      "execution_count": 0,
      "outputs": []
    },
    {
      "cell_type": "code",
      "metadata": {
        "id": "G1FtUL1PGIwC",
        "colab_type": "code",
        "colab": {}
      },
      "source": [
        "# Linear Regression Class\n",
        "# creating objects, new instances of Linear Regression Class\n",
        "# class is followed by init method(constructer, initializer)\n",
        "class LR(nn.Module):\n",
        "  def __init__(self,input_size,output_size):\n",
        "    super().__init__() # template to create custom class\n",
        "    self.Linear = nn.Linear(input_size,output_size)\n",
        "  def forward(self, x):\n",
        "    pred = self.Linear(x)\n",
        "    return pred"
      ],
      "execution_count": 0,
      "outputs": []
    },
    {
      "cell_type": "code",
      "metadata": {
        "id": "dzOyokXJELcy",
        "colab_type": "code",
        "outputId": "908619c8-60e6-4c03-a10e-250196fe5028",
        "colab": {
          "base_uri": "https://localhost:8080/",
          "height": 68
        }
      },
      "source": [
        "torch.manual_seed(1)\n",
        "model = LR(1,1)\n",
        "print(list(model.parameters()))"
      ],
      "execution_count": 0,
      "outputs": [
        {
          "output_type": "stream",
          "text": [
            "[Parameter containing:\n",
            "tensor([[0.5153]], requires_grad=True), Parameter containing:\n",
            "tensor([-0.4414], requires_grad=True)]\n"
          ],
          "name": "stdout"
        }
      ]
    },
    {
      "cell_type": "markdown",
      "metadata": {
        "id": "mjiJ-9iVL8uW",
        "colab_type": "text"
      },
      "source": [
        "weight equals 0.5153\n",
        "bias equals -0.4414"
      ]
    },
    {
      "cell_type": "code",
      "metadata": {
        "id": "OFO4ySYFM1A0",
        "colab_type": "code",
        "outputId": "e1e32d57-08b7-435a-e802-9ea16e1e279a",
        "colab": {
          "base_uri": "https://localhost:8080/",
          "height": 34
        }
      },
      "source": [
        "x = torch.tensor([1.0]) # single input, single output\n",
        "print(model.forward(x))"
      ],
      "execution_count": 0,
      "outputs": [
        {
          "output_type": "stream",
          "text": [
            "tensor([0.0739], grad_fn=<AddBackward0>)\n"
          ],
          "name": "stdout"
        }
      ]
    },
    {
      "cell_type": "code",
      "metadata": {
        "id": "88hDNf1HOKjF",
        "colab_type": "code",
        "outputId": "05de3c39-76ad-429e-d9f7-11a81c3b34d2",
        "colab": {
          "base_uri": "https://localhost:8080/",
          "height": 51
        }
      },
      "source": [
        "x = torch.tensor([[1.0],[2.0]]) # multiple input, multiple output\n",
        "print(model.forward(x))"
      ],
      "execution_count": 0,
      "outputs": [
        {
          "output_type": "stream",
          "text": [
            "tensor([[0.0739],\n",
            "        [0.5891]], grad_fn=<AddmmBackward>)\n"
          ],
          "name": "stdout"
        }
      ]
    },
    {
      "cell_type": "markdown",
      "metadata": {
        "id": "9Rnmnea1czhu",
        "colab_type": "text"
      },
      "source": [
        "# Train model to fit a dataset."
      ]
    },
    {
      "cell_type": "code",
      "metadata": {
        "id": "8qkl_MfCaWmN",
        "colab_type": "code",
        "colab": {}
      },
      "source": [
        "import matplotlib.pyplot as plt"
      ],
      "execution_count": 0,
      "outputs": []
    },
    {
      "cell_type": "code",
      "metadata": {
        "id": "sLDvPwl2bquF",
        "colab_type": "code",
        "outputId": "ab8b07db-0948-4ef2-8944-0b6c126d085d",
        "colab": {
          "base_uri": "https://localhost:8080/",
          "height": 1000
        }
      },
      "source": [
        "x = torch.randn(100,1)*10 # returns a tensor filled with random numbers\n",
        "y = x\n",
        "print(x)"
      ],
      "execution_count": 0,
      "outputs": [
        {
          "output_type": "stream",
          "text": [
            "tensor([[ -6.5398],\n",
            "        [-16.0948],\n",
            "        [ -1.0017],\n",
            "        [ -6.0919],\n",
            "        [ -9.7977],\n",
            "        [-16.0910],\n",
            "        [-11.6603],\n",
            "        [-10.7475],\n",
            "        [ -7.7731],\n",
            "        [ -2.5146],\n",
            "        [ -2.2227],\n",
            "        [ 16.8711],\n",
            "        [  2.2843],\n",
            "        [  4.6764],\n",
            "        [ -5.7098],\n",
            "        [  0.1349],\n",
            "        [  6.9954],\n",
            "        [  1.9908],\n",
            "        [  8.6569],\n",
            "        [  2.4440],\n",
            "        [ -6.6291],\n",
            "        [  8.0731],\n",
            "        [  4.3914],\n",
            "        [ 11.7120],\n",
            "        [-22.4556],\n",
            "        [-14.4646],\n",
            "        [  0.6116],\n",
            "        [ -6.1774],\n",
            "        [ -7.9807],\n",
            "        [ -1.3162],\n",
            "        [ -7.9844],\n",
            "        [  3.3573],\n",
            "        [  1.5777],\n",
            "        [ -7.7345],\n",
            "        [  1.9906],\n",
            "        [  0.4570],\n",
            "        [  1.5296],\n",
            "        [ -4.7568],\n",
            "        [-18.8214],\n",
            "        [ -7.7655],\n",
            "        [ -1.5785],\n",
            "        [ -0.2879],\n",
            "        [ 23.5711],\n",
            "        [-10.3734],\n",
            "        [ 15.7480],\n",
            "        [ -6.2985],\n",
            "        [ 24.0698],\n",
            "        [  2.7857],\n",
            "        [  0.6628],\n",
            "        [ -4.3704],\n",
            "        [  7.6260],\n",
            "        [  4.4151],\n",
            "        [ 11.6514],\n",
            "        [ 20.1539],\n",
            "        [  2.1518],\n",
            "        [ -5.2419],\n",
            "        [ -1.8600],\n",
            "        [ -6.4464],\n",
            "        [ 15.3925],\n",
            "        [ -8.6959],\n",
            "        [-33.3115],\n",
            "        [ -7.4787],\n",
            "        [ 11.1735],\n",
            "        [  2.9814],\n",
            "        [ -5.9619],\n",
            "        [-10.0553],\n",
            "        [ -2.1061],\n",
            "        [ -0.0755],\n",
            "        [ 16.7343],\n",
            "        [  0.1034],\n",
            "        [  9.8371],\n",
            "        [  8.7929],\n",
            "        [ -9.9624],\n",
            "        [ -8.3126],\n",
            "        [ -4.6102],\n",
            "        [ -5.6008],\n",
            "        [  3.9558],\n",
            "        [ -9.8228],\n",
            "        [ 13.2639],\n",
            "        [  8.5472],\n",
            "        [ -6.5397],\n",
            "        [  7.3169],\n",
            "        [-14.3439],\n",
            "        [ -5.0081],\n",
            "        [ -9.2758],\n",
            "        [ 11.1196],\n",
            "        [  6.1554],\n",
            "        [  1.9382],\n",
            "        [-25.8321],\n",
            "        [  8.5394],\n",
            "        [ 12.4657],\n",
            "        [  5.0572],\n",
            "        [-14.7823],\n",
            "        [-11.3342],\n",
            "        [ -1.0103],\n",
            "        [  3.4335],\n",
            "        [-10.7028],\n",
            "        [ -8.7426],\n",
            "        [-14.6480],\n",
            "        [-12.6293]])\n"
          ],
          "name": "stdout"
        }
      ]
    },
    {
      "cell_type": "markdown",
      "metadata": {
        "id": "oFAi9TNWdCWU",
        "colab_type": "text"
      },
      "source": [
        "Each datapoint is characterized by X and Y coordinates. \n",
        "\n",
        "Fitting a linear model into a straight line of data points."
      ]
    },
    {
      "cell_type": "code",
      "metadata": {
        "id": "2bWcxrkrcHGb",
        "colab_type": "code",
        "outputId": "14dee22b-2afd-4ee0-aa46-918ee8947fdf",
        "colab": {
          "base_uri": "https://localhost:8080/",
          "height": 286
        }
      },
      "source": [
        "x = torch.randn(100,1)*10\n",
        "y = x                                     # output equals input\n",
        "plt.plot(x.numpy(), y.numpy())"
      ],
      "execution_count": 0,
      "outputs": [
        {
          "output_type": "execute_result",
          "data": {
            "text/plain": [
              "[<matplotlib.lines.Line2D at 0x7f39be93dba8>]"
            ]
          },
          "metadata": {
            "tags": []
          },
          "execution_count": 20
        },
        {
          "output_type": "display_data",
          "data": {
            "image/png": "[encoded data removed]",
            "text/plain": [
              "<Figure size 432x288 with 1 Axes>"
            ]
          },
          "metadata": {
            "tags": []
          }
        }
      ]
    },
    {
      "cell_type": "markdown",
      "metadata": {
        "id": "Vr234CqMdcmm",
        "colab_type": "text"
      },
      "source": [
        "This results in a straight line of datapoints. "
      ]
    },
    {
      "cell_type": "markdown",
      "metadata": {
        "id": "VJlyFHdHfLk3",
        "colab_type": "text"
      },
      "source": [
        "# Creating noisy dataset."
      ]
    },
    {
      "cell_type": "markdown",
      "metadata": {
        "id": "CU-BKsZ3f2G9",
        "colab_type": "text"
      },
      "source": [
        "Adding noise to output to each Y value and shift upwards and downwards.\n",
        "Noise will be normally distributed accross the entire range."
      ]
    },
    {
      "cell_type": "code",
      "metadata": {
        "id": "pkVzpQqQchhC",
        "colab_type": "code",
        "outputId": "7a060134-a098-4895-b06c-3e83102952a1",
        "colab": {
          "base_uri": "https://localhost:8080/",
          "height": 300
        }
      },
      "source": [
        "x = torch.randn(100,1)*10\n",
        "y = x + 3*torch.randn(100,1)                                # multiply noise ratio by 3 to make noise reasonably significant\n",
        "plt.plot(x.numpy(), y.numpy(), 'o')\n",
        "plt.ylabel('Y')\n",
        "plt.xlabel('X')"
      ],
      "execution_count": 0,
      "outputs": [
        {
          "output_type": "execute_result",
          "data": {
            "text/plain": [
              "Text(0.5, 0, 'X')"
            ]
          },
          "metadata": {
            "tags": []
          },
          "execution_count": 21
        },
        {
          "output_type": "display_data",
          "data": {
            "image/png": "[encoded data removed]",
            "text/plain": [
              "<Figure size 432x288 with 1 Axes>"
            ]
          },
          "metadata": {
            "tags": []
          }
        }
      ]
    },
    {
      "cell_type": "code",
      "metadata": {
        "id": "yAfSIqxKch5q",
        "colab_type": "code",
        "colab": {}
      },
      "source": [
        "class LR(nn.Module):\n",
        "  def __init__(self,input_size,output_size):\n",
        "    super().__init__() # template to create custom class\n",
        "    self.Linear = nn.Linear(input_size,output_size)\n",
        "  def forward(self, x):\n",
        "    pred = self.Linear(x)\n",
        "    return pred"
      ],
      "execution_count": 0,
      "outputs": []
    },
    {
      "cell_type": "code",
      "metadata": {
        "id": "P1hL31BXsWaQ",
        "colab_type": "code",
        "outputId": "7c4f8ea8-a4b3-4a97-85c7-30f4720e4d1d",
        "colab": {
          "base_uri": "https://localhost:8080/",
          "height": 119
        }
      },
      "source": [
        "torch.manual_seed(1)\n",
        "model = LR(1,1)\n",
        "print(model)\n",
        "print(list(model.parameters()))"
      ],
      "execution_count": 0,
      "outputs": [
        {
          "output_type": "stream",
          "text": [
            "LR(\n",
            "  (Linear): Linear(in_features=1, out_features=1, bias=True)\n",
            ")\n",
            "[Parameter containing:\n",
            "tensor([[0.5153]], requires_grad=True), Parameter containing:\n",
            "tensor([-0.4414], requires_grad=True)]\n"
          ],
          "name": "stdout"
        }
      ]
    },
    {
      "cell_type": "code",
      "metadata": {
        "id": "J3gScI1GsXDt",
        "colab_type": "code",
        "outputId": "a4e8b52b-a930-4358-e2ee-6f74f2d82535",
        "colab": {
          "base_uri": "https://localhost:8080/",
          "height": 34
        }
      },
      "source": [
        "[w,b] = model.parameters()\n",
        "w1=w[0][0].item()\n",
        "b1=b[0].item()\n",
        "print(w1,b1)"
      ],
      "execution_count": 0,
      "outputs": [
        {
          "output_type": "stream",
          "text": [
            "0.5152631998062134 -0.44137823581695557\n"
          ],
          "name": "stdout"
        }
      ]
    },
    {
      "cell_type": "code",
      "metadata": {
        "id": "o9QmRMYDsXc-",
        "colab_type": "code",
        "outputId": "d7dd9072-db79-4efb-ec1f-847c5ce2b375",
        "colab": {
          "base_uri": "https://localhost:8080/",
          "height": 85
        }
      },
      "source": [
        "# parameters, tensor values\n",
        "[w,b] = model.parameters()\n",
        "print(w,b)\n",
        "w1=w[0][0]\n",
        "b1=b[0]\n",
        "print(w1,b1)\n",
        "def get_params():\n",
        "  return()"
      ],
      "execution_count": 0,
      "outputs": [
        {
          "output_type": "stream",
          "text": [
            "Parameter containing:\n",
            "tensor([[0.5153]], requires_grad=True) Parameter containing:\n",
            "tensor([-0.4414], requires_grad=True)\n",
            "tensor(0.5153, grad_fn=<SelectBackward>) tensor(-0.4414, grad_fn=<SelectBackward>)\n"
          ],
          "name": "stdout"
        }
      ]
    },
    {
      "cell_type": "code",
      "metadata": {
        "id": "AYX2jGG3vqs1",
        "colab_type": "code",
        "outputId": "049e38b2-cef0-4adc-b15e-4cdc1a004fb4",
        "colab": {
          "base_uri": "https://localhost:8080/",
          "height": 34
        }
      },
      "source": [
        "# parameters, tensor values\n",
        "[w,b] = model.parameters()\n",
        "w1=w[0][0]\n",
        "b1=b[0]\n",
        "print(w1,b1)\n",
        "def get_params():\n",
        "  return(w[0][0].item(), b[0].item())"
      ],
      "execution_count": 0,
      "outputs": [
        {
          "output_type": "stream",
          "text": [
            "tensor(0.5153, grad_fn=<SelectBackward>) tensor(-0.4414, grad_fn=<SelectBackward>)\n"
          ],
          "name": "stdout"
        }
      ]
    },
    {
      "cell_type": "markdown",
      "metadata": {
        "id": "0-bLHYJDxUzn",
        "colab_type": "text"
      },
      "source": [
        "# Plot Linear Model alongside datapoints.\n",
        "Determine numerical expression for x1 and y1."
      ]
    },
    {
      "cell_type": "code",
      "metadata": {
        "id": "S-iBMzrkvrIO",
        "colab_type": "code",
        "colab": {}
      },
      "source": [
        "import numpy as np\n",
        "def plot_fit(title):\n",
        "  plt.title = title\n",
        "  w1,b1 = get_params()\n",
        "  x1 = np.array([-30, 30])\n",
        "  y1 = w1*x1 + b1\n",
        "  plt.plot(x1, y1,'r')\n",
        "  plt.scatter(x,y)\n",
        "  plt.show()\n",
        " "
      ],
      "execution_count": 0,
      "outputs": []
    },
    {
      "cell_type": "code",
      "metadata": {
        "id": "eWx8brJPvrdi",
        "colab_type": "code",
        "outputId": "c4f1bd98-e53c-41cf-95ed-33233547cda6",
        "colab": {
          "base_uri": "https://localhost:8080/",
          "height": 269
        }
      },
      "source": [
        "plot_fit('Initial Model')"
      ],
      "execution_count": 0,
      "outputs": [
        {
          "output_type": "display_data",
          "data": {
            "image/png": "[encoded data removed]",
            "text/plain": [
              "<Figure size 432x288 with 1 Axes>"
            ]
          },
          "metadata": {
            "tags": []
          }
        }
      ]
    },
    {
      "cell_type": "markdown",
      "metadata": {
        "id": "E4QI3o8ACd-1",
        "colab_type": "text"
      },
      "source": [
        ""
      ]
    },
    {
      "cell_type": "markdown",
      "metadata": {
        "id": "GZ6TkGFQ6fe6",
        "colab_type": "text"
      },
      "source": [
        "The line doesn't fit data. It would be better to use Gradient Descent Algorithn to adjust parameters."
      ]
    },
    {
      "cell_type": "code",
      "metadata": {
        "id": "dR9V280iE89c",
        "colab_type": "code",
        "colab": {}
      },
      "source": [
        "criterion = nn.MSELoss()\n",
        "optimizer = torch.optim.SGD(model.parameters(), lr = 0.01)"
      ],
      "execution_count": 0,
      "outputs": []
    },
    {
      "cell_type": "code",
      "metadata": {
        "id": "CcExoEPpE9aS",
        "colab_type": "code",
        "outputId": "49704c9b-3efb-4cb9-b7d8-c93979ec9b21",
        "colab": {
          "base_uri": "https://localhost:8080/",
          "height": 1000
        }
      },
      "source": [
        "epochs =100\n",
        "losses = []\n",
        "for i in range(epochs):\n",
        "  y_pred = model.forward(x)\n",
        "  loss = criterion(y_pred, y)\n",
        "  print('epochs:', i, 'loss:', loss.item())\n",
        "  \n",
        "  losses.append(loss)\n",
        "  optimizer.zero_grad()\n",
        "  loss.backward()\n",
        "  optimizer.step()"
      ],
      "execution_count": 0,
      "outputs": [
        {
          "output_type": "stream",
          "text": [
            "epochs: 0 loss: 28.914575576782227\n",
            "epochs: 1 loss: 20.61296844482422\n",
            "epochs: 2 loss: 15.965325355529785\n",
            "epochs: 3 loss: 13.363329887390137\n",
            "epochs: 4 loss: 11.906599044799805\n",
            "epochs: 5 loss: 11.091031074523926\n",
            "epochs: 6 loss: 10.634418487548828\n",
            "epochs: 7 loss: 10.378766059875488\n",
            "epochs: 8 loss: 10.235620498657227\n",
            "epochs: 9 loss: 10.155462265014648\n",
            "epochs: 10 loss: 10.110568046569824\n",
            "epochs: 11 loss: 10.085416793823242\n",
            "epochs: 12 loss: 10.071319580078125\n",
            "epochs: 13 loss: 10.063411712646484\n",
            "epochs: 14 loss: 10.058968544006348\n",
            "epochs: 15 loss: 10.056467056274414\n",
            "epochs: 16 loss: 10.055052757263184\n",
            "epochs: 17 loss: 10.05424690246582\n",
            "epochs: 18 loss: 10.05378246307373\n",
            "epochs: 19 loss: 10.053510665893555\n",
            "epochs: 20 loss: 10.053346633911133\n",
            "epochs: 21 loss: 10.053242683410645\n",
            "epochs: 22 loss: 10.053174018859863\n",
            "epochs: 23 loss: 10.05312442779541\n",
            "epochs: 24 loss: 10.053086280822754\n",
            "epochs: 25 loss: 10.053055763244629\n",
            "epochs: 26 loss: 10.05302906036377\n",
            "epochs: 27 loss: 10.05300521850586\n",
            "epochs: 28 loss: 10.052983283996582\n",
            "epochs: 29 loss: 10.052962303161621\n",
            "epochs: 30 loss: 10.052943229675293\n",
            "epochs: 31 loss: 10.052924156188965\n",
            "epochs: 32 loss: 10.052906036376953\n",
            "epochs: 33 loss: 10.052888870239258\n",
            "epochs: 34 loss: 10.052872657775879\n",
            "epochs: 35 loss: 10.0528564453125\n",
            "epochs: 36 loss: 10.052842140197754\n",
            "epochs: 37 loss: 10.052827835083008\n",
            "epochs: 38 loss: 10.052813529968262\n",
            "epochs: 39 loss: 10.052800178527832\n",
            "epochs: 40 loss: 10.052786827087402\n",
            "epochs: 41 loss: 10.052775382995605\n",
            "epochs: 42 loss: 10.052762985229492\n",
            "epochs: 43 loss: 10.052751541137695\n",
            "epochs: 44 loss: 10.052741050720215\n",
            "epochs: 45 loss: 10.052730560302734\n",
            "epochs: 46 loss: 10.052720069885254\n",
            "epochs: 47 loss: 10.05271053314209\n",
            "epochs: 48 loss: 10.052700996398926\n",
            "epochs: 49 loss: 10.052692413330078\n",
            "epochs: 50 loss: 10.05268383026123\n",
            "epochs: 51 loss: 10.052675247192383\n",
            "epochs: 52 loss: 10.052667617797852\n",
            "epochs: 53 loss: 10.052659034729004\n",
            "epochs: 54 loss: 10.052652359008789\n",
            "epochs: 55 loss: 10.052645683288574\n",
            "epochs: 56 loss: 10.05263900756836\n",
            "epochs: 57 loss: 10.052632331848145\n",
            "epochs: 58 loss: 10.05262565612793\n",
            "epochs: 59 loss: 10.052619934082031\n",
            "epochs: 60 loss: 10.052614212036133\n",
            "epochs: 61 loss: 10.052608489990234\n",
            "epochs: 62 loss: 10.052603721618652\n",
            "epochs: 63 loss: 10.052597999572754\n",
            "epochs: 64 loss: 10.052593231201172\n",
            "epochs: 65 loss: 10.05258846282959\n",
            "epochs: 66 loss: 10.052584648132324\n",
            "epochs: 67 loss: 10.052579879760742\n",
            "epochs: 68 loss: 10.05257511138916\n",
            "epochs: 69 loss: 10.052571296691895\n",
            "epochs: 70 loss: 10.052567481994629\n",
            "epochs: 71 loss: 10.052563667297363\n",
            "epochs: 72 loss: 10.052560806274414\n",
            "epochs: 73 loss: 10.052556991577148\n",
            "epochs: 74 loss: 10.0525541305542\n",
            "epochs: 75 loss: 10.05255126953125\n",
            "epochs: 76 loss: 10.052547454833984\n",
            "epochs: 77 loss: 10.052545547485352\n",
            "epochs: 78 loss: 10.052542686462402\n",
            "epochs: 79 loss: 10.052539825439453\n",
            "epochs: 80 loss: 10.052536964416504\n",
            "epochs: 81 loss: 10.052534103393555\n",
            "epochs: 82 loss: 10.052532196044922\n",
            "epochs: 83 loss: 10.052529335021973\n",
            "epochs: 84 loss: 10.05252742767334\n",
            "epochs: 85 loss: 10.052525520324707\n",
            "epochs: 86 loss: 10.052523612976074\n",
            "epochs: 87 loss: 10.052521705627441\n",
            "epochs: 88 loss: 10.052519798278809\n",
            "epochs: 89 loss: 10.052517890930176\n",
            "epochs: 90 loss: 10.052515983581543\n",
            "epochs: 91 loss: 10.05251407623291\n",
            "epochs: 92 loss: 10.052513122558594\n",
            "epochs: 93 loss: 10.052511215209961\n",
            "epochs: 94 loss: 10.052510261535645\n",
            "epochs: 95 loss: 10.052508354187012\n",
            "epochs: 96 loss: 10.052507400512695\n",
            "epochs: 97 loss: 10.052505493164062\n",
            "epochs: 98 loss: 10.052504539489746\n",
            "epochs: 99 loss: 10.05250358581543\n"
          ],
          "name": "stdout"
        }
      ]
    },
    {
      "cell_type": "code",
      "metadata": {
        "id": "vpvIFVnFGWWz",
        "colab_type": "code",
        "outputId": "8eaef665-2577-438b-daf5-75078b22fc66",
        "colab": {
          "base_uri": "https://localhost:8080/",
          "height": 269
        }
      },
      "source": [
        "plot_fit('Trained Model')\n"
      ],
      "execution_count": 0,
      "outputs": [
        {
          "output_type": "display_data",
          "data": {
            "image/png": "[encoded data removed]",
            "text/plain": [
              "<Figure size 432x288 with 1 Axes>"
            ]
          },
          "metadata": {
            "tags": []
          }
        }
      ]
    },
    {
      "cell_type": "code",
      "metadata": {
        "id": "xpSD_SH1GW7n",
        "colab_type": "code",
        "colab": {}
      },
      "source": [
        "The Linear Model has been trained to fit training data using gradient descent."
      ],
      "execution_count": 0,
      "outputs": []
    },
    {
      "cell_type": "markdown",
      "metadata": {
        "id": "UMqtu9lcCF7d",
        "colab_type": "text"
      },
      "source": [
        ""
      ]
    }
  ]
}