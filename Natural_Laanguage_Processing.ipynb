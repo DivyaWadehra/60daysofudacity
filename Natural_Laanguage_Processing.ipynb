{
  "nbformat": 4,
  "nbformat_minor": 0,
  "metadata": {
    "colab": {
      "name": "Natural Laanguage Processing.ipynb",
      "version": "0.3.2",
      "provenance": [],
      "collapsed_sections": [],
      "include_colab_link": true
    },
    "kernelspec": {
      "name": "python3",
      "display_name": "Python 3"
    },
    "accelerator": "GPU"
  },
  "cells": [
    {
      "cell_type": "markdown",
      "metadata": {
        "id": "view-in-github",
        "colab_type": "text"
      },
      "source": [
        "<a href=\"https://colab.research.google.com/github/reallygooday/60daysofudacity/blob/master/Natural_Laanguage_Processing.ipynb\" target=\"_parent\"><img src=\"https://colab.research.google.com/assets/colab-badge.svg\" alt=\"Open In Colab\"/></a>"
      ]
    },
    {
      "cell_type": "markdown",
      "metadata": {
        "id": "l7Vl-hvFf-_q",
        "colab_type": "text"
      },
      "source": [
        "https://colab.research.google.com/drive/1AMXDyss2pbYzlDdzd0JMW1zwCjIdpnXy#scrollTo=l7Vl-hvFf-_q\n"
      ]
    },
    {
      "cell_type": "code",
      "metadata": {
        "id": "WeHUgI68ZDHc",
        "colab_type": "code",
        "colab": {
          "base_uri": "https://localhost:8080/",
          "height": 122
        },
        "outputId": "04b10305-7551-4db5-8823-a9601ccac866"
      },
      "source": [
        "from google.colab import drive\n",
        "drive.mount('/content/drive/')"
      ],
      "execution_count": 1,
      "outputs": [
        {
          "output_type": "stream",
          "text": [
            "Go to this URL in a browser: https://accounts.google.com/o/oauth2/auth?client_id=947318989803-6bn6qk8qdgf4n4g3pfee6491hc0brc4i.apps.googleusercontent.com&redirect_uri=urn%3Aietf%3Awg%3Aoauth%3A2.0%3Aoob&scope=email%20https%3A%2F%2Fwww.googleapis.com%2Fauth%2Fdocs.test%20https%3A%2F%2Fwww.googleapis.com%2Fauth%2Fdrive%20https%3A%2F%2Fwww.googleapis.com%2Fauth%2Fdrive.photos.readonly%20https%3A%2F%2Fwww.googleapis.com%2Fauth%2Fpeopleapi.readonly&response_type=code\n",
            "\n",
            "Enter your authorization code:\n",
            "··········\n",
            "Mounted at /content/drive/\n"
          ],
          "name": "stdout"
        }
      ]
    },
    {
      "cell_type": "code",
      "metadata": {
        "id": "4HtBRixfcHhx",
        "colab_type": "code",
        "colab": {}
      },
      "source": [
        ""
      ],
      "execution_count": 0,
      "outputs": []
    },
    {
      "cell_type": "markdown",
      "metadata": {
        "id": "dDG2D-jRcJLA",
        "colab_type": "text"
      },
      "source": [
        "Hacker News: https://news.ycombinator.com/\n",
        "\n",
        "An analysis of Hacker News:    https://github.com/arnauddri/hn\n",
        "\n",
        "The data set consists of submissions users made to Hacker News from 2006 to 2015.\n",
        "\n",
        "Predict the number of upvotes the articles received, based on their headlines. \n",
        "\n",
        "The upvotes are an indicator of popularity. \n",
        "\n",
        "Discover which types of articles tend to be the most popular."
      ]
    },
    {
      "cell_type": "code",
      "metadata": {
        "id": "wSQkAK02Y0HP",
        "colab_type": "code",
        "colab": {}
      },
      "source": [
        "import pandas as pd\n",
        "submissions = pd.read_csv(\"/content/drive/My Drive/Text Generator/sel_hn_stories.csv\")\n",
        "submissions.columns = [\"submission_time\", \"upvotes\", \"url\", \"headline\"]\n",
        "submissions = submissions.dropna()"
      ],
      "execution_count": 0,
      "outputs": []
    },
    {
      "cell_type": "code",
      "metadata": {
        "id": "E1L0-LHugrj7",
        "colab_type": "code",
        "colab": {
          "base_uri": "https://localhost:8080/",
          "height": 142
        },
        "outputId": "b6f0d117-abad-49f2-e5d3-c83d2b6d5bb0"
      },
      "source": [
        "submissions.sample(3)"
      ],
      "execution_count": 17,
      "outputs": [
        {
          "output_type": "execute_result",
          "data": {
            "text/html": [
              "<div>\n",
              "<style scoped>\n",
              "    .dataframe tbody tr th:only-of-type {\n",
              "        vertical-align: middle;\n",
              "    }\n",
              "\n",
              "    .dataframe tbody tr th {\n",
              "        vertical-align: top;\n",
              "    }\n",
              "\n",
              "    .dataframe thead th {\n",
              "        text-align: right;\n",
              "    }\n",
              "</style>\n",
              "<table border=\"1\" class=\"dataframe\">\n",
              "  <thead>\n",
              "    <tr style=\"text-align: right;\">\n",
              "      <th></th>\n",
              "      <th>submission_time</th>\n",
              "      <th>upvotes</th>\n",
              "      <th>url</th>\n",
              "      <th>headline</th>\n",
              "    </tr>\n",
              "  </thead>\n",
              "  <tbody>\n",
              "    <tr>\n",
              "      <th>2205</th>\n",
              "      <td>2013-09-10T05:09:07Z</td>\n",
              "      <td>12</td>\n",
              "      <td>blog.udacity.com</td>\n",
              "      <td>Announcing the launch of the Open Education Al...</td>\n",
              "    </tr>\n",
              "    <tr>\n",
              "      <th>925</th>\n",
              "      <td>2013-12-10T15:08:10Z</td>\n",
              "      <td>1</td>\n",
              "      <td>blog.vivekhaldar.com</td>\n",
              "      <td>To tool or not to tool?</td>\n",
              "    </tr>\n",
              "    <tr>\n",
              "      <th>1436</th>\n",
              "      <td>2014-04-17T02:06:57Z</td>\n",
              "      <td>1</td>\n",
              "      <td>armoredenvoy.com</td>\n",
              "      <td>Secure Electronic Document Delivery: Keeping I...</td>\n",
              "    </tr>\n",
              "  </tbody>\n",
              "</table>\n",
              "</div>"
            ],
            "text/plain": [
              "           submission_time  ...                                           headline\n",
              "2205  2013-09-10T05:09:07Z  ...  Announcing the launch of the Open Education Al...\n",
              "925   2013-12-10T15:08:10Z  ...                            To tool or not to tool?\n",
              "1436  2014-04-17T02:06:57Z  ...  Secure Electronic Document Delivery: Keeping I...\n",
              "\n",
              "[3 rows x 4 columns]"
            ]
          },
          "metadata": {
            "tags": []
          },
          "execution_count": 17
        }
      ]
    },
    {
      "cell_type": "code",
      "metadata": {
        "id": "KB3tOGung2zU",
        "colab_type": "code",
        "colab": {
          "base_uri": "https://localhost:8080/",
          "height": 34
        },
        "outputId": "44527828-5067-46c6-ffd1-8d52c112ea8b"
      },
      "source": [
        "submissions.shape"
      ],
      "execution_count": 19,
      "outputs": [
        {
          "output_type": "execute_result",
          "data": {
            "text/plain": [
              "(2800, 4)"
            ]
          },
          "metadata": {
            "tags": []
          },
          "execution_count": 19
        }
      ]
    },
    {
      "cell_type": "code",
      "metadata": {
        "id": "I_G0XWlEg_oQ",
        "colab_type": "code",
        "colab": {
          "base_uri": "https://localhost:8080/",
          "height": 170
        },
        "outputId": "c8f63eec-e463-4739-a8f3-224525019f96"
      },
      "source": [
        "submissions.info()"
      ],
      "execution_count": 20,
      "outputs": [
        {
          "output_type": "stream",
          "text": [
            "<class 'pandas.core.frame.DataFrame'>\n",
            "Int64Index: 2800 entries, 0 to 2998\n",
            "Data columns (total 4 columns):\n",
            "submission_time    2800 non-null object\n",
            "upvotes            2800 non-null int64\n",
            "url                2800 non-null object\n",
            "headline           2800 non-null object\n",
            "dtypes: int64(1), object(3)\n",
            "memory usage: 109.4+ KB\n"
          ],
          "name": "stdout"
        }
      ]
    },
    {
      "cell_type": "code",
      "metadata": {
        "id": "2i1rMzTYZCdZ",
        "colab_type": "code",
        "colab": {}
      },
      "source": [
        "tokenized_headlines = []\n",
        "for item in submissions[\"headline\"]:\n",
        "    tokenized_headlines.append(item.split())"
      ],
      "execution_count": 0,
      "outputs": []
    },
    {
      "cell_type": "code",
      "metadata": {
        "id": "V3Lrz8mydqeR",
        "colab_type": "code",
        "colab": {}
      },
      "source": [
        "punctuation = [\",\", \":\", \";\", \".\", \"'\", '\"', \"’\", \"?\", \"/\", \"-\", \"+\", \"&\", \"(\", \")\"]\n",
        "clean_tokenized = []\n",
        "for item in tokenized_headlines:\n",
        "    tokens = []\n",
        "    for token in item:\n",
        "        token = token.lower()\n",
        "        for punc in punctuation:\n",
        "            token = token.replace(punc, \"\")\n",
        "        tokens.append(token)\n",
        "    clean_tokenized.append(tokens)"
      ],
      "execution_count": 0,
      "outputs": []
    },
    {
      "cell_type": "code",
      "metadata": {
        "id": "nOh8LBjcd0Sr",
        "colab_type": "code",
        "colab": {}
      },
      "source": [
        "import numpy as np\n",
        "unique_tokens = []\n",
        "single_tokens = []\n",
        "for tokens in clean_tokenized:\n",
        "    for token in tokens:\n",
        "        if token not in single_tokens:\n",
        "            single_tokens.append(token)\n",
        "        elif token in single_tokens and token not in unique_tokens:\n",
        "            unique_tokens.append(token)\n",
        "\n",
        "counts = pd.DataFrame(0, index=np.arange(len(clean_tokenized)), columns=unique_tokens)"
      ],
      "execution_count": 0,
      "outputs": []
    },
    {
      "cell_type": "code",
      "metadata": {
        "id": "kslIapZLdqw0",
        "colab_type": "code",
        "colab": {}
      },
      "source": [
        "# We've already loaded in clean_tokenized and counts\n",
        "for i, item in enumerate(clean_tokenized):\n",
        "    for token in item:\n",
        "        if token in unique_tokens:\n",
        "            counts.iloc[i][token] += 1"
      ],
      "execution_count": 0,
      "outputs": []
    },
    {
      "cell_type": "code",
      "metadata": {
        "id": "NvVj21P0drCG",
        "colab_type": "code",
        "colab": {}
      },
      "source": [
        "# We've already loaded in clean_tokenized and counts\n",
        "word_counts = counts.sum(axis=0)\n",
        "\n",
        "counts = counts.loc[:,(word_counts >= 5) & (word_counts <= 100)]"
      ],
      "execution_count": 0,
      "outputs": []
    },
    {
      "cell_type": "code",
      "metadata": {
        "id": "zRfrBGCGeT_w",
        "colab_type": "code",
        "colab": {}
      },
      "source": [
        "from sklearn.model_selection import train_test_split\n",
        "\n",
        "X_train, X_test, y_train, y_test = train_test_split(counts, submissions[\"upvotes\"], test_size=0.2, random_state=1)"
      ],
      "execution_count": 0,
      "outputs": []
    },
    {
      "cell_type": "code",
      "metadata": {
        "id": "T87kcgkFeVUy",
        "colab_type": "code",
        "colab": {}
      },
      "source": [
        "from sklearn.linear_model import LinearRegression\n",
        "\n",
        "clf = LinearRegression()\n",
        "clf.fit(X_train, y_train)\n",
        "\n",
        "predictions = clf.predict(X_test)"
      ],
      "execution_count": 0,
      "outputs": []
    },
    {
      "cell_type": "code",
      "metadata": {
        "id": "6iLAn39gemtQ",
        "colab_type": "code",
        "colab": {}
      },
      "source": [
        "mse = sum((predictions - y_test) ** 2) / len(predictions)"
      ],
      "execution_count": 0,
      "outputs": []
    },
    {
      "cell_type": "code",
      "metadata": {
        "id": "uBND4hEken_W",
        "colab_type": "code",
        "colab": {
          "base_uri": "https://localhost:8080/",
          "height": 1000
        },
        "outputId": "16b33d31-b6ab-4852-f51f-f5d480c026f5"
      },
      "source": [
        "print(predictions)"
      ],
      "execution_count": 14,
      "outputs": [
        {
          "output_type": "stream",
          "text": [
            "[ 2.17690686e+01  6.35049729e+01 -1.67007237e+01  1.67866575e+01\n",
            " -1.97586441e+00  3.44558067e+01 -4.49860607e+01  1.41788903e+01\n",
            "  1.53594595e+01  4.82887218e+00  2.25350723e+00  4.98527927e+01\n",
            "  1.10696859e+01  3.78096656e+01  1.10326030e+01 -1.90095575e-01\n",
            "  1.10326030e+01  3.72920816e+00 -1.40047322e+01  3.48050765e+01\n",
            "  6.43508350e+01  1.10326030e+01  2.44084956e+01  1.10326030e+01\n",
            "  2.02609640e+01  2.36476055e+00  1.10326030e+01  2.26720526e+00\n",
            "  2.22436673e+01  2.66568210e+00 -3.47492521e+00 -4.72847975e+01\n",
            "  3.67933060e+00  1.09959656e+02  9.91904416e+00  4.43886626e+01\n",
            "  9.00963982e+00 -2.17246247e+01  2.92874561e+01 -7.08448438e+00\n",
            "  5.38368177e+01 -2.67775578e+00  3.52360958e+01  2.15580590e+01\n",
            "  1.10326030e+01  2.07073523e+01 -1.06418175e+01  1.10326030e+01\n",
            "  1.72869227e+01 -1.39319454e+01 -1.55296118e+01  1.23604698e+01\n",
            " -5.10036138e+00  1.10326030e+01  1.10326030e+01 -1.06795758e+01\n",
            "  2.56007188e+01  2.70652122e+01  9.53182447e+00  2.12059356e+01\n",
            " -6.39424491e-02  2.30081982e+01  3.91886462e+01  4.56634542e+01\n",
            " -1.98787674e+00  6.13368558e+00 -1.50163219e+00  2.25448527e+01\n",
            "  5.42501314e+01 -1.42570719e+01  1.01133130e+01  4.62229479e+01\n",
            " -2.52566175e+01  2.34399432e+01 -8.04609610e+00  2.32999959e+01\n",
            "  1.86394478e+00  1.33286402e+01 -5.12564595e+00 -2.54606139e+01\n",
            "  1.49644438e+01  4.64399381e+01  3.60590440e+00  2.01839788e+01\n",
            "  5.44726171e+00 -1.16265606e+01  6.82504960e+01 -1.39341304e+01\n",
            " -7.01200022e+00  3.74807325e+01 -7.21529234e+00  1.10326030e+01\n",
            " -1.66704701e+01  8.94654705e+00  1.73378208e+00 -1.20641235e+01\n",
            "  2.77684824e+00  1.80734425e+01  3.52139395e+01  1.54966150e+01\n",
            "  3.73244081e+01  7.38791293e+01  3.64562056e+00  9.17576087e+00\n",
            "  1.64331834e+01  5.46207656e+00 -4.24317967e-01 -1.40463218e+01\n",
            "  2.60765421e+00  2.79423433e+01  7.63890090e+01  5.29808007e+01\n",
            "  1.45339241e+01  1.10326030e+01 -1.06795758e+01  1.51212187e+01\n",
            " -4.69203563e+00  3.91565120e+01  2.99966043e+01  1.53594595e+01\n",
            "  1.21668147e+01 -4.49319334e+00  1.44949895e+01  4.04818356e+00\n",
            "  5.82819875e+00 -1.12935223e+01  1.23164842e+01 -1.03468723e+01\n",
            "  1.07924107e+01 -3.64167977e+01  1.64510399e+01 -1.00750745e+01\n",
            "  6.64810415e+01  5.57923097e-01 -2.17701730e+01 -5.36858745e+01\n",
            "  7.58940653e+00 -1.60616614e+01 -7.75125532e+00 -4.73973014e+00\n",
            " -1.83481299e+01  7.99369791e+00 -6.40193581e+00  1.50131525e+01\n",
            " -1.06604495e+01  1.81740444e+01  1.10326030e+01  1.10326030e+01\n",
            " -3.28241496e+00 -1.01446834e+01  1.10326030e+01  3.98493899e+00\n",
            " -2.27731147e+00  1.60220576e+01  2.01465618e+01 -1.90549429e+01\n",
            " -3.93268043e+00  4.18620367e+01 -8.80418091e+01  1.81229245e+00\n",
            "  5.20198701e+00  4.18827158e+00  1.86031331e+02  1.38053149e+01\n",
            " -5.06335277e-02  1.10326030e+01  1.10326030e+01  1.10326030e+01\n",
            " -1.18463427e+01  1.68172868e+01  1.52146178e+01  3.92737398e+01\n",
            "  1.10326030e+01 -2.12216074e+00 -6.79733999e+00  1.27838757e+01\n",
            "  1.24194255e+01 -2.34174126e+01  7.65187449e+00  2.46672303e+01\n",
            " -3.81991064e+00 -2.30533253e+01 -7.63536831e+01 -4.77542280e+00\n",
            " -3.46347724e+01  5.49816156e+00 -3.99678261e+01  2.32490674e+00\n",
            "  4.46496795e+01  6.85177520e+01  2.22377429e+01  1.84964563e+01\n",
            "  6.54366457e+00 -3.77221796e+01 -1.48742304e+01  1.35902679e+00\n",
            " -8.25970105e+00 -6.36961387e+00  1.52387717e+01  1.15129488e+01\n",
            "  6.68703570e+00  1.90312988e-02  4.80855883e+00  7.45810132e+00\n",
            "  7.92665239e+00  1.06609039e+01 -2.35672080e+01  8.98636541e+00\n",
            " -1.90751081e+00 -1.57372845e+01 -4.24437615e+00  4.60569610e+00\n",
            " -7.76888940e-01  3.69802960e+00  2.65000748e+01  9.04389623e+00\n",
            "  4.74561848e+01  1.10326030e+01  8.37247247e+00  1.14857199e+01\n",
            " -8.49093586e+00 -1.50153227e+01  5.56940389e+01 -5.28496732e+00\n",
            "  7.75069869e+00  1.40513612e+01  2.07130758e+00  1.40395348e+01\n",
            " -8.29772115e+00  2.53542663e+01  9.46091090e+00  5.99143668e-01\n",
            "  1.10326030e+01  1.00930051e+02 -9.55841862e-01 -2.46061899e+01\n",
            "  4.35092221e+01  4.34977098e-01  2.69759833e+01  4.88169220e+01\n",
            " -1.05943960e+01  2.80444905e+01  3.80125134e+00 -4.81433656e+01\n",
            " -3.81091144e-01  1.45916291e+00 -3.95871430e+01  1.10326030e+01\n",
            " -1.47009026e+01  1.32344595e+01 -4.91802118e+00  1.15890139e+01\n",
            "  6.99521375e+01  3.05992655e-01  5.68225617e+01  3.08473099e+01\n",
            " -1.01218759e+01  1.44767421e+01 -5.45320566e+00 -7.12762881e+01\n",
            "  1.10326030e+01  1.10326030e+01  3.26664953e+01  1.16212082e+01\n",
            "  7.64463110e+00  1.62291941e+01  3.36584514e+01  3.44363766e+01\n",
            " -1.24065120e+01  8.17998035e+00 -8.08715541e+00  2.47194047e+00\n",
            "  1.10326030e+01  2.12188271e+00 -1.10807837e+01  1.95863536e+01\n",
            "  2.14808457e+01  6.67966862e-01 -1.02576453e+01  5.55078707e+00\n",
            " -1.74327623e+01 -5.56975380e+01  1.44615276e+01  5.34115319e+01\n",
            "  5.39516627e+00 -3.67928295e+00 -4.69838069e-01  6.78670467e+00\n",
            " -5.36904150e+01 -1.39150883e+01  3.18744200e-01  1.42310446e+01\n",
            "  2.20349479e+01  1.18448025e+01 -1.43513267e+01  2.11886963e+01\n",
            "  1.10326030e+01  3.85545618e+01 -7.77822019e+00 -4.58007106e+01\n",
            " -2.06809704e+01  7.73740713e+00 -3.08557575e+00  3.78948890e+00\n",
            "  6.07749591e+00 -6.88279625e+00  2.38923831e+01  3.11760269e+01\n",
            "  3.24106060e+01 -2.89957779e+00 -6.61124733e+00  1.33936105e+01\n",
            "  1.10219071e+01 -1.99572856e+01  1.19903559e+01  3.00687375e+00\n",
            "  1.55575871e+01 -2.42900739e+00 -3.84689018e+01  2.01192421e+01\n",
            " -2.53923588e+00  3.06590765e+01  3.03072008e+00  3.12223009e+01\n",
            "  4.18230964e+01 -6.51698926e+01 -1.18699527e+01  1.10326030e+01\n",
            "  1.15072300e+01  6.19846523e+00 -2.51687658e+01  9.29967639e+00\n",
            "  2.40295278e+01  1.80986853e+01  2.80192271e+00  7.10851525e+01\n",
            "  7.66174501e+01 -2.92475403e+01 -3.70191233e+01 -2.21375942e+00\n",
            " -1.27930777e+01 -5.08819659e+01  1.15129936e+01 -1.51676003e+01\n",
            "  9.29967639e+00  1.10326030e+01  1.10326030e+01  1.10326030e+01\n",
            " -2.12882365e+01  8.46944876e+00 -1.02236924e+01  3.29536587e+01\n",
            " -2.60281440e+01 -8.65123812e+00 -2.35944689e+01  1.96854547e+01\n",
            "  1.63970999e+01 -8.36957339e+00 -6.86433338e+00 -4.18094355e-01\n",
            "  1.28078089e+01 -2.37240790e+00  2.33409992e+00 -4.39434887e+00\n",
            "  1.10326030e+01  2.15562852e+01  9.43084285e+00 -1.33208319e+01\n",
            "  2.73700021e+01 -1.61997379e+01  8.26181415e+00  9.92842456e+00\n",
            "  8.26538229e+00  4.87912929e+01 -4.20792877e+01 -1.35218978e+01\n",
            "  1.75418994e+01  6.42156613e+00  1.15415739e+01 -1.39155810e+01\n",
            "  7.75268382e+00  1.10326030e+01  2.92734949e+01 -2.35769607e+01\n",
            " -2.07230335e+01  1.23604698e+01 -2.63639292e+01  1.08614778e+01\n",
            "  1.51963429e+01  1.07120168e+02  4.69278722e+00  4.08619086e+00\n",
            " -6.24589112e+00  6.68703570e+00  5.94467224e+01 -1.37444794e+01\n",
            "  1.30484346e+01 -2.73962934e+01  9.86915663e+00  6.10864709e+01\n",
            " -1.60828060e+01 -1.12545976e+01  4.01329027e+01  1.51850358e+01\n",
            " -1.65828267e+01  1.43926358e+01  4.53170067e+01  1.29248342e+01\n",
            "  1.99611344e+02 -6.74055897e+00  1.67697446e+01 -7.93980045e+00\n",
            " -8.31423009e+00  3.76423844e+01  6.00221855e+00  9.20801087e+01\n",
            "  2.87426683e+01  4.68680012e+00  1.24931320e+01  2.15436493e+01\n",
            "  3.03110429e+00  5.15157148e+01  8.19051006e+00 -7.83910093e+00\n",
            "  2.51677691e+01 -1.12577470e+01 -9.38722698e+00  1.10326030e+01\n",
            "  3.70406802e+01  1.10326030e+01 -1.71327617e+01  4.83216816e+01\n",
            "  9.17576087e+00 -7.05789133e+00  1.17567034e+01  1.10326030e+01\n",
            "  4.10421266e+01  1.10326030e+01  4.20292267e+01  1.01676771e+01\n",
            " -6.88971143e+00  2.04358102e+01 -1.55071822e+01 -4.65352528e+01\n",
            "  1.03197917e+00  4.31412804e+01 -4.05900454e+01  1.10326030e+01\n",
            "  4.43828818e+01  7.86334451e+01  1.48832347e+01  2.36291738e+01\n",
            "  5.43182660e+00  1.73237240e+01 -2.33638956e+01  1.10326030e+01\n",
            "  1.10326030e+01  3.09635627e+01  8.34003389e+01  1.54996586e+00\n",
            " -2.72073743e+00  7.34933712e+00 -3.38090687e+01  1.15415739e+01\n",
            " -2.51665810e+01  1.23167307e+01  3.93878142e+00  6.06062836e+00\n",
            "  2.28665571e+01  1.43170650e-01  4.71251468e+01 -4.55326116e+01\n",
            "  4.80556822e+00  1.46627846e+01  4.59604539e+01  2.55021181e+00\n",
            "  1.73860980e+01  1.00740710e+01  1.10326030e+01  1.10326030e+01\n",
            " -2.31932296e+01  5.54935489e+01  1.10326030e+01 -3.35327699e+00\n",
            "  1.60882639e+01 -1.10718476e+01  4.15852731e+00  2.41014544e+01\n",
            " -3.31575486e+01 -1.08411104e+00  3.96810416e+00 -8.39919754e+00\n",
            "  7.16979839e+00  2.07286449e-01  7.34516760e+00  4.24865168e+00\n",
            "  3.09983132e+01 -1.91097722e+01  1.10326030e+01 -9.30938697e-01\n",
            " -1.24119514e-01 -6.11262866e+00 -8.32074609e+00  1.74405172e+01\n",
            "  7.12916321e+00  1.10326030e+01 -6.22317998e-01  1.96500160e+00\n",
            " -1.09097148e+01 -8.17464358e+00 -2.75681640e+01  2.84570065e+01\n",
            "  8.71204878e+00  1.53594595e+01  2.68396443e+01  1.10326030e+01\n",
            "  1.02632602e+01  1.10326030e+01  1.10326030e+01  1.60261890e+01\n",
            "  1.10326030e+01  1.68947606e+01  4.84308855e+00 -7.88163014e+00\n",
            "  9.42180289e+00  2.56292245e+01  2.60676998e+01  1.14037021e+01\n",
            "  2.44139291e+01  2.24180345e+00  9.65453005e+00  1.18622348e+01\n",
            " -1.69851265e+01 -8.90285258e+00  2.25350723e+00  1.08951358e+01\n",
            "  9.57655535e+00 -1.71551701e+01  2.85316337e+01  8.35524070e+01\n",
            " -4.32016252e+01 -6.39424491e-02  2.90438998e+01 -5.04219804e+01\n",
            " -9.55841862e-01 -8.18711276e+00  2.80081376e+01 -8.25970105e+00\n",
            "  1.09864162e+01  3.25312328e-02  1.83527128e+00  7.62370773e+01\n",
            "  1.10326030e+01 -2.32518821e+01 -9.48792840e+00  3.54687338e+00\n",
            " -1.34657540e+01  6.78676574e+00  4.53028412e+01 -2.80181701e+01]\n"
          ],
          "name": "stdout"
        }
      ]
    },
    {
      "cell_type": "code",
      "metadata": {
        "id": "V6sIJ103e7cQ",
        "colab_type": "code",
        "colab": {
          "base_uri": "https://localhost:8080/",
          "height": 34
        },
        "outputId": "3e8c3d20-be12-4c59-c346-1f2dc677817c"
      },
      "source": [
        "# mean squared error\n",
        "print(mse)"
      ],
      "execution_count": 15,
      "outputs": [
        {
          "output_type": "stream",
          "text": [
            "2651.145705668969\n"
          ],
          "name": "stdout"
        }
      ]
    },
    {
      "cell_type": "markdown",
      "metadata": {
        "id": "7OTlbytSfX79",
        "colab_type": "text"
      },
      "source": [
        "2651 is a large value"
      ]
    }
  ]
}