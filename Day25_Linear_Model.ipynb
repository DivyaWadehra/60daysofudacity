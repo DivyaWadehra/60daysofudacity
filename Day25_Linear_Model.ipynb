{
  "nbformat": 4,
  "nbformat_minor": 0,
  "metadata": {
    "colab": {
      "name": "Linear Regression.ipynb",
      "version": "0.3.2",
      "provenance": []
    },
    "kernelspec": {
      "name": "python3",
      "display_name": "Python 3"
    }
  },
  "cells": [
    {
      "cell_type": "markdown",
      "metadata": {
        "id": "VDnq4tab-oXL",
        "colab_type": "text"
      },
      "source": [
        "#                                                                                                           Deep Learning using PyTorch\n",
        "\n",
        "Implementing Machine Learning based algorithm to train Linear Model to fit a set of data points.\n",
        "\n",
        "Getting comfortable making predictions by using Linear Model.\n"
      ]
    },
    {
      "cell_type": "markdown",
      "metadata": {
        "id": "fUIQv1tsACwL",
        "colab_type": "text"
      },
      "source": [
        "Machine Leraning is the concept of building algorithms that can learn based on experience to detect and predict meaningful patterns. \n",
        "\n",
        "In Supervised Learning, algorithms are trained to make use of labeled data. Once introduced to new input, the algoritms are able to predict a corresponding output."
      ]
    },
    {
      "cell_type": "code",
      "metadata": {
        "id": "KOl9mFXs7ja8",
        "colab_type": "code",
        "colab": {
          "base_uri": "https://localhost:8080/",
          "height": 51
        },
        "outputId": "eb8337c4-5a8d-445a-b582-b7abc85538e6"
      },
      "source": [
        "# import relevant Torch Library\n",
        "!pip3 install torch"
      ],
      "execution_count": 9,
      "outputs": [
        {
          "output_type": "stream",
          "text": [
            "Requirement already satisfied: torch in /usr/local/lib/python3.6/dist-packages (1.1.0)\n",
            "Requirement already satisfied: numpy in /usr/local/lib/python3.6/dist-packages (from torch) (1.16.4)\n"
          ],
          "name": "stdout"
        }
      ]
    },
    {
      "cell_type": "code",
      "metadata": {
        "id": "A0t41xRm7roJ",
        "colab_type": "code",
        "colab": {}
      },
      "source": [
        "import torch\n",
        "from torch.nn import Linear"
      ],
      "execution_count": 0,
      "outputs": []
    },
    {
      "cell_type": "code",
      "metadata": {
        "id": "4kf6z9eE7sG5",
        "colab_type": "code",
        "colab": {}
      },
      "source": [
        "w = torch.tensor(3.0, requires_grad=True) #weight\n",
        "b = torch.tensor(1.0, requires_grad=True)#bias\n",
        "\n"
      ],
      "execution_count": 0,
      "outputs": []
    },
    {
      "cell_type": "code",
      "metadata": {
        "id": "qtc-FG0I9cEK",
        "colab_type": "code",
        "colab": {}
      },
      "source": [
        "def forward(x): # forward-function with one argument\n",
        "  y =w*x + b\n",
        "  return y"
      ],
      "execution_count": 0,
      "outputs": []
    },
    {
      "cell_type": "code",
      "metadata": {
        "id": "njPW0Up59cqG",
        "colab_type": "code",
        "colab": {
          "base_uri": "https://localhost:8080/",
          "height": 34
        },
        "outputId": "a165e058-6231-4f7e-fbb0-affe251cd186"
      },
      "source": [
        "x =torch.tensor(2)\n",
        "forward(x)"
      ],
      "execution_count": 7,
      "outputs": [
        {
          "output_type": "execute_result",
          "data": {
            "text/plain": [
              "tensor(7., grad_fn=<AddBackward0>)"
            ]
          },
          "metadata": {
            "tags": []
          },
          "execution_count": 7
        }
      ]
    },
    {
      "cell_type": "code",
      "metadata": {
        "id": "g_rzE0LG9c08",
        "colab_type": "code",
        "colab": {
          "base_uri": "https://localhost:8080/",
          "height": 51
        },
        "outputId": "c20c6311-493a-45d8-bf20-69b7e09002ef"
      },
      "source": [
        "x = torch.tensor([[4],[7]]) # making predictins for 4 and 7, two separate inputs\n",
        "forward(x)"
      ],
      "execution_count": 8,
      "outputs": [
        {
          "output_type": "execute_result",
          "data": {
            "text/plain": [
              "tensor([[13],\n",
              "        [22]], grad_fn=<AddBackward0>)"
            ]
          },
          "metadata": {
            "tags": []
          },
          "execution_count": 8
        }
      ]
    },
    {
      "cell_type": "markdown",
      "metadata": {
        "id": "Qlc68SpwCP3J",
        "colab_type": "text"
      },
      "source": [
        "\n",
        "\n",
        "\n",
        "\n",
        "*   13 is prediction for 4;\n",
        "*  22 is prediction for 7\n",
        "\n",
        "\n"
      ]
    },
    {
      "cell_type": "code",
      "metadata": {
        "id": "MH0ojxVrD_5P",
        "colab_type": "code",
        "colab": {
          "base_uri": "https://localhost:8080/",
          "height": 34
        },
        "outputId": "b7e80f8d-1386-48a4-9f2e-5b310017936f"
      },
      "source": [
        "torch.manual_seed(1) # set a seed for generating random number for the Linear Class"
      ],
      "execution_count": 13,
      "outputs": [
        {
          "output_type": "execute_result",
          "data": {
            "text/plain": [
              "<torch._C.Generator at 0x7ff71a8c6a30>"
            ]
          },
          "metadata": {
            "tags": []
          },
          "execution_count": 13
        }
      ]
    },
    {
      "cell_type": "code",
      "metadata": {
        "id": "X8LqWVH9FMMd",
        "colab_type": "code",
        "colab": {
          "base_uri": "https://localhost:8080/",
          "height": 68
        },
        "outputId": "1ed7bfdc-5e29-494a-9220-a8e17826ddc8"
      },
      "source": [
        "model = Linear(in_features =1, out_features=1) # for every single input calculate single ouput\n",
        "print(model.bias, model.weight) # obtain the optimal parameters to fit the data"
      ],
      "execution_count": 15,
      "outputs": [
        {
          "output_type": "stream",
          "text": [
            "Parameter containing:\n",
            "tensor([-0.4414], requires_grad=True) Parameter containing:\n",
            "tensor([[0.5153]], requires_grad=True)\n"
          ],
          "name": "stdout"
        }
      ]
    },
    {
      "cell_type": "code",
      "metadata": {
        "id": "ZJHjQ-j5GHHb",
        "colab_type": "code",
        "colab": {
          "base_uri": "https://localhost:8080/",
          "height": 34
        },
        "outputId": "33907290-4c32-4e0b-d610-26ad18405025"
      },
      "source": [
        "x = torch.tensor([2.0]) # float number\n",
        "model22 is prediction for 7(x) # passing x as input"
      ],
      "execution_count": 16,
      "outputs": [
        {
          "output_type": "execute_result",
          "data": {
            "text/plain": [
              "tensor([0.5891], grad_fn=<AddBackward0>)"
            ]
          },
          "metadata": {
            "tags": []
          },
          "execution_count": 16
        }
      ]
    },
    {
      "cell_type": "code",
      "metadata": {
        "id": "POB0dF_WGIaE",
        "colab_type": "code",
        "colab": {
          "base_uri": "https://localhost:8080/",
          "height": 51
        },
        "outputId": "6adeafa4-cb22-4772-a891-f8eddd85ed8e"
      },
      "source": [
        "#@ passing multiple input\n",
        "x = torch.tensor([[2.0],[3.3]])\n",
        "model(x)"
      ],
      "execution_count": 17,
      "outputs": [
        {
          "output_type": "execute_result",
          "data": {
            "text/plain": [
              "tensor([[0.5891],\n",
              "        [1.2590]], grad_fn=<AddmmBackward>)"
            ]
          },
          "metadata": {
            "tags": []
          },
          "execution_count": 17
        }
      ]
    },
    {
      "cell_type": "code",
      "metadata": {
        "id": "O-atonvDJUrP",
        "colab_type": "code",
        "colab": {}
      },
      "source": [
        "import torch.nn as nn"
      ],
      "execution_count": 0,
      "outputs": []
    },
    {
      "cell_type": "code",
      "metadata": {
        "id": "G1FtUL1PGIwC",
        "colab_type": "code",
        "colab": {}
      },
      "source": [
        "# Linear Regression Class\n",
        "# creating objects, new instances of Linear Regression Class\n",
        "# class is followed by init method(constructer, initializer)\n",
        "class LR(nn.Module):\n",
        "  def __init__(self,input_size,output_size):\n",
        "    super().__init__() # template to create custom class\n",
        "    self.Linear = nn.Linear(input_size,output_size)\n",
        "  def forward(self, x):\n",
        "    pred = self.Linear(x)\n",
        "    return pred"
      ],
      "execution_count": 0,
      "outputs": []
    },
    {
      "cell_type": "code",
      "metadata": {
        "id": "dzOyokXJELcy",
        "colab_type": "code",
        "colab": {
          "base_uri": "https://localhost:8080/",
          "height": 68
        },
        "outputId": "519c5cc6-b17a-49a8-ea79-fa698be345c5"
      },
      "source": [
        "torch.manual_seed(1)\n",
        "model = LR(1,1)\n",
        "print(list(model.parameters()))"
      ],
      "execution_count": 36,
      "outputs": [
        {
          "output_type": "stream",
          "text": [
            "[Parameter containing:\n",
            "tensor([[0.5153]], requires_grad=True), Parameter containing:\n",
            "tensor([-0.4414], requires_grad=True)]\n"
          ],
          "name": "stdout"
        }
      ]
    },
    {
      "cell_type": "markdown",
      "metadata": {
        "id": "mjiJ-9iVL8uW",
        "colab_type": "text"
      },
      "source": [
        "weight equals 0.5153\n",
        "bias equals -0.4414"
      ]
    },
    {
      "cell_type": "code",
      "metadata": {
        "id": "OFO4ySYFM1A0",
        "colab_type": "code",
        "colab": {
          "base_uri": "https://localhost:8080/",
          "height": 34
        },
        "outputId": "1283e1a8-6cef-413d-b48c-d5d21b9b8223"
      },
      "source": [
        "x = torch.tensor([1.0]) # single input, single output\n",
        "print(model.forward(x))"
      ],
      "execution_count": 39,
      "outputs": [
        {
          "output_type": "stream",
          "text": [
            "tensor([0.0739], grad_fn=<AddBackward0>)\n"
          ],
          "name": "stdout"
        }
      ]
    },
    {
      "cell_type": "code",
      "metadata": {
        "id": "88hDNf1HOKjF",
        "colab_type": "code",
        "colab": {
          "base_uri": "https://localhost:8080/",
          "height": 51
        },
        "outputId": "938d2b2f-455d-4194-e24f-78efeb0ba1e7"
      },
      "source": [
        "x = torch.tensor([[1.0],[2.0]]) # multiple input, multiple output\n",
        "print(model.forward(x))"
      ],
      "execution_count": 40,
      "outputs": [
        {
          "output_type": "stream",
          "text": [
            "tensor([[0.0739],\n",
            "        [0.5891]], grad_fn=<AddmmBackward>)\n"
          ],
          "name": "stdout"
        }
      ]
    },
    {
      "cell_type": "markdown",
      "metadata": {
        "id": "E4QI3o8ACd-1",
        "colab_type": "text"
      },
      "source": [
        ""
      ]
    },
    {
      "cell_type": "markdown",
      "metadata": {
        "id": "UMqtu9lcCF7d",
        "colab_type": "text"
      },
      "source": [
        ""
      ]
    }
  ]
}