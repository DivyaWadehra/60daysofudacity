{
  "nbformat": 4,
  "nbformat_minor": 0,
  "metadata": {
    "colab": {
      "name": "Story Generator.ipynb",
      "version": "0.3.2",
      "provenance": [],
      "collapsed_sections": [],
      "toc_visible": true,
      "include_colab_link": true
    },
    "kernelspec": {
      "name": "python3",
      "display_name": "Python 3"
    },
    "accelerator": "GPU"
  },
  "cells": [
    {
      "cell_type": "markdown",
      "metadata": {
        "id": "view-in-github",
        "colab_type": "text"
      },
      "source": [
        "<a href=\"https://colab.research.google.com/github/reallygooday/60daysofudacity/blob/master/Story_Generator.ipynb\" target=\"_parent\"><img src=\"https://colab.research.google.com/assets/colab-badge.svg\" alt=\"Open In Colab\"/></a>"
      ]
    },
    {
      "cell_type": "markdown",
      "metadata": {
        "id": "FHf-LFf6G4St",
        "colab_type": "text"
      },
      "source": [
        "\n",
        "\n",
        "Character-Level LSTM in PyTorch\n",
        "\n",
        "https://classroom.udacity.com/courses/ud188/lessons/a8fc0724-37ed-40d9-a226-57175b8bb8cc/concepts/cfeeb323-45d6-4567-9a7b-49700a25dcfe"
      ]
    },
    {
      "cell_type": "markdown",
      "metadata": {
        "id": "9AqrWknkGye2",
        "colab_type": "text"
      },
      "source": [
        "https://colab.research.google.com/drive/1jzNdctJwpG7d81Pu6-2HZPLqzCcnHypV#scrollTo=9AqrWknkGye2"
      ]
    },
    {
      "cell_type": "markdown",
      "metadata": {
        "id": "Iq9trVbzGbKF",
        "colab_type": "text"
      },
      "source": [
        "https://github.com/udacity/deep-learning-v2-pytorch/blob/master/recurrent-neural-networks/char-rnn/Character_Level_RNN_Solution.ipynb"
      ]
    },
    {
      "cell_type": "code",
      "metadata": {
        "id": "2oFD_YGp_ZWY",
        "colab_type": "code",
        "colab": {}
      },
      "source": [
        "import numpy as np\n",
        "import torch# open text file and read in data as `text`\n",
        "from torch import nn\n",
        "import torch.nn.functional as F"
      ],
      "execution_count": 0,
      "outputs": []
    },
    {
      "cell_type": "code",
      "metadata": {
        "id": "MjfzYkdbpxlp",
        "colab_type": "code",
        "outputId": "240c348c-8a4a-46e0-b3ff-950e9917f77c",
        "colab": {
          "base_uri": "https://localhost:8080/",
          "height": 54
        }
      },
      "source": [
        "from google.colab import drive\n",
        "drive.mount('/content/drive')"
      ],
      "execution_count": 3,
      "outputs": [
        {
          "output_type": "stream",
          "text": [
            "Drive already mounted at /content/drive; to attempt to forcibly remount, call drive.mount(\"/content/drive\", force_remount=True).\n"
          ],
          "name": "stdout"
        }
      ]
    },
    {
      "cell_type": "code",
      "metadata": {
        "colab_type": "code",
        "outputId": "01310e50-e8f6-46c1-8683-5b8cad7fecdb",
        "id": "blVgZ_jUw1T7",
        "colab": {
          "base_uri": "https://localhost:8080/",
          "height": 238
        }
      },
      "source": [
        "!ls '/content/drive/My Drive/Text Generator'"
      ],
      "execution_count": 4,
      "outputs": [
        {
          "output_type": "stream",
          "text": [
            "'generated_script2019-07-30 17:15:13.735175.txt'\n",
            " oliver.txt\n",
            " place2.txt\n",
            " place.txt\n",
            "'preprocessed2019-07-30 17:06:00.732826.p'\n",
            "'preprocessed2019-07-30 17:06:42.389736.p'\n",
            "'preprocessed2019-07-30 17:14:12.698497.p'\n",
            "'preprocessed2019-07-30 17:17:30.349953.p'\n",
            "'trained_scriptGenModel2019-07-30 17:15:09.497845.pt'\n",
            "'trained_scriptGenModel2019-07-30 17:16:10.999422.pt'\n",
            "'trained_scriptGenModel2019-07-30 17:16:37.995327.pt'\n",
            "'trained_scriptGenModel2019-07-30 17:17:48.526540.pt'\n",
            "'trained_scriptGenModel2019-07-30 17:17:50.015998.pt'\n"
          ],
          "name": "stdout"
        }
      ]
    },
    {
      "cell_type": "code",
      "metadata": {
        "id": "9mUIz-wk13IG",
        "colab_type": "code",
        "colab": {}
      },
      "source": [
        "with open('/content/drive/My Drive/Text Generator/place2.txt', 'r') as f:\n",
        "  text = f.read()"
      ],
      "execution_count": 0,
      "outputs": []
    },
    {
      "cell_type": "code",
      "metadata": {
        "id": "nfF9jCCC_26P",
        "colab_type": "code",
        "colab": {
          "base_uri": "https://localhost:8080/",
          "height": 34
        },
        "outputId": "cd967e6a-8e2f-4d04-9b4e-0c0ecc424eb3"
      },
      "source": [
        "text[:100]"
      ],
      "execution_count": 6,
      "outputs": [
        {
          "output_type": "execute_result",
          "data": {
            "text/plain": [
              "'It was late and every one had left the cafe except an old man \\nwho sat in the shadow the leaves of t'"
            ]
          },
          "metadata": {
            "tags": []
          },
          "execution_count": 6
        }
      ]
    },
    {
      "cell_type": "code",
      "metadata": {
        "id": "PBLwMWy1A3Od",
        "colab_type": "code",
        "colab": {}
      },
      "source": [
        "# encode the text and map each character to an integer and vice versa\n",
        "\n",
        "# we create two dictionaries:\n",
        "# 1. int2char, which maps integers to characters\n",
        "# 2. char2int, which maps characters to unique integers\n",
        "chars = tuple(set(text))\n",
        "int2char = dict(enumerate(chars))\n",
        "char2int = {ch: ii for ii, ch in int2char.items()}\n",
        "\n",
        "# encode the text\n",
        "encoded = np.array([char2int[ch] for ch in text])"
      ],
      "execution_count": 0,
      "outputs": []
    },
    {
      "cell_type": "code",
      "metadata": {
        "id": "EUXZdpK2A-0D",
        "colab_type": "code",
        "colab": {
          "base_uri": "https://localhost:8080/",
          "height": 119
        },
        "outputId": "f6a2c2cf-5ca9-4315-b1c6-713ca6397014"
      },
      "source": [
        "encoded[:100]"
      ],
      "execution_count": 8,
      "outputs": [
        {
          "output_type": "execute_result",
          "data": {
            "text/plain": [
              "array([48, 43, 38, 76, 10, 66, 38, 49, 10, 43, 11, 38, 10, 50, 77, 38, 11,\n",
              "       55, 11, 19, 59, 38, 31, 50, 11, 38, 12, 10, 77, 38, 49, 11, 75, 43,\n",
              "       38, 43, 12, 11, 38, 53, 10, 75, 11, 38, 11, 57, 53, 11, 71, 43, 38,\n",
              "       10, 50, 38, 31, 49, 77, 38, 22, 10, 50, 38, 72, 76, 12, 31, 38, 66,\n",
              "       10, 43, 38, 23, 50, 38, 43, 12, 11, 38, 66, 12, 10, 77, 31, 76, 38,\n",
              "       43, 12, 11, 38, 49, 11, 10, 55, 11, 66, 38, 31, 75, 38, 43])"
            ]
          },
          "metadata": {
            "tags": []
          },
          "execution_count": 8
        }
      ]
    },
    {
      "cell_type": "code",
      "metadata": {
        "id": "JBRRa9vuBAmw",
        "colab_type": "code",
        "colab": {}
      },
      "source": [
        "def one_hot_encode(arr, n_labels):\n",
        "    \n",
        "    # Initialize the the encoded array\n",
        "    one_hot = np.zeros((arr.size, n_labels), dtype=np.float32)\n",
        "    \n",
        "    # Fill the appropriate elements with ones\n",
        "    one_hot[np.arange(one_hot.shape[0]), arr.flatten()] = 1.\n",
        "    \n",
        "    # Finally reshape it to get back to the original array\n",
        "    one_hot = one_hot.reshape((*arr.shape, n_labels))\n",
        "    \n",
        "    return one_hot"
      ],
      "execution_count": 0,
      "outputs": []
    },
    {
      "cell_type": "code",
      "metadata": {
        "id": "FhnXV5WMBKSA",
        "colab_type": "code",
        "colab": {
          "base_uri": "https://localhost:8080/",
          "height": 68
        },
        "outputId": "644d592b-899b-4a2a-a32f-054216795bc2"
      },
      "source": [
        "# check that the function works as expected\n",
        "test_seq = np.array([[3, 5, 1]])\n",
        "one_hot = one_hot_encode(test_seq, 8)\n",
        "\n",
        "print(one_hot)"
      ],
      "execution_count": 12,
      "outputs": [
        {
          "output_type": "stream",
          "text": [
            "[[[0. 0. 0. 1. 0. 0. 0. 0.]\n",
            "  [0. 0. 0. 0. 0. 1. 0. 0.]\n",
            "  [0. 1. 0. 0. 0. 0. 0. 0.]]]\n"
          ],
          "name": "stdout"
        }
      ]
    },
    {
      "cell_type": "code",
      "metadata": {
        "id": "6JLNeYi9BL2X",
        "colab_type": "code",
        "colab": {}
      },
      "source": [
        "\n",
        "def get_batches(arr, batch_size, seq_length):\n",
        "    '''Create a generator that returns batches of size\n",
        "       batch_size x seq_length from arr.\n",
        "       \n",
        "       Arguments\n",
        "       ---------\n",
        "       arr: Array you want to make batches from\n",
        "       batch_size: Batch size, the number of sequences per batch\n",
        "       seq_length: Number of encoded chars in a sequence\n",
        "    '''\n",
        "    \n",
        "    batch_size_total = batch_size * seq_length\n",
        "    # total number of batches we can make\n",
        "    n_batches = len(arr)//batch_size_total\n",
        "    \n",
        "    # Keep only enough characters to make full batches\n",
        "    arr = arr[:n_batches * batch_size_total]\n",
        "    # Reshape into batch_size rows\n",
        "    arr = arr.reshape((batch_size, -1))\n",
        "    \n",
        "    # iterate through the array, one sequence at a time\n",
        "    for n in range(0, arr.shape[1], seq_length):\n",
        "        # The features\n",
        "        x = arr[:, n:n+seq_length]\n",
        "        # The targets, shifted by one\n",
        "        y = np.zeros_like(x)\n",
        "        try:\n",
        "            y[:, :-1], y[:, -1] = x[:, 1:], arr[:, n+seq_length]\n",
        "        except IndexError:\n",
        "            y[:, :-1], y[:, -1] = x[:, 1:], arr[:, 0]\n",
        "        yield x, y"
      ],
      "execution_count": 0,
      "outputs": []
    },
    {
      "cell_type": "code",
      "metadata": {
        "id": "p0iDKwMCBfmG",
        "colab_type": "code",
        "colab": {}
      },
      "source": [
        "batches = get_batches(encoded, 8, 50)\n",
        "x, y = next(batches)"
      ],
      "execution_count": 0,
      "outputs": []
    },
    {
      "cell_type": "code",
      "metadata": {
        "id": "b7XuwOIOBhg7",
        "colab_type": "code",
        "colab": {
          "base_uri": "https://localhost:8080/",
          "height": 340
        },
        "outputId": "ecc12f94-beb3-4a1b-bf8e-f88b0ebc1625"
      },
      "source": [
        "# printing out the first 10 items in a sequence\n",
        "print('x\\n', x[:10, :10])\n",
        "print('\\ny\\n', y[:10, :10])"
      ],
      "execution_count": 16,
      "outputs": [
        {
          "output_type": "stream",
          "text": [
            "x\n",
            " [[48 43 38 76 10 66 38 49 10 43]\n",
            " [ 6 62 12 43 38 43 12 11 38 27]\n",
            " [38 76 10 66 38 12 31 43 38 10]\n",
            " [12 11 38 77 31 31 19 76 10 59]\n",
            " [38 43 12 11 38 66  6 50 38 76]\n",
            " [27 11 38 62 31 50 11 38 10 49]\n",
            " [38 43 31 38 66 43 10 50 77 38]\n",
            " [43 38 27 10 53 52 38 31 75 38]]\n",
            "\n",
            "y\n",
            " [[43 38 76 10 66 38 49 10 43 11]\n",
            " [62 12 43 38 43 12 11 38 27 49]\n",
            " [76 10 66 38 12 31 43 38 10 49]\n",
            " [11 38 77 31 31 19 76 10 59 38]\n",
            " [43 12 11 38 66  6 50 38 76 23]\n",
            " [11 38 62 31 50 11 38 10 49 49]\n",
            " [43 31 38 66 43 10 50 77 38 23]\n",
            " [38 27 10 53 52 38 31 75 38 43]]\n"
          ],
          "name": "stdout"
        }
      ]
    },
    {
      "cell_type": "code",
      "metadata": {
        "id": "cbbxY26cBlTa",
        "colab_type": "code",
        "colab": {}
      },
      "source": [
        "#self.lstm = nn.LSTM(input_size, n_hidden, n_layers,  dropout=drop_prob, batch_first=True)"
      ],
      "execution_count": 0,
      "outputs": []
    },
    {
      "cell_type": "code",
      "metadata": {
        "id": "0Xwk_OdLCFJw",
        "colab_type": "code",
        "colab": {}
      },
      "source": [
        "#self.init_hidden()"
      ],
      "execution_count": 0,
      "outputs": []
    },
    {
      "cell_type": "code",
      "metadata": {
        "id": "nNLcwqCsCMTQ",
        "colab_type": "code",
        "colab": {
          "base_uri": "https://localhost:8080/",
          "height": 34
        },
        "outputId": "fc20a0ca-cb68-45b4-bb1d-bb95897d705c"
      },
      "source": [
        "# check if GPU is available\n",
        "train_on_gpu = torch.cuda.is_available()\n",
        "if(train_on_gpu):\n",
        "    print('Training on GPU!')\n",
        "else: \n",
        "    print('No GPU available, training on CPU; consider making n_epochs very small.')"
      ],
      "execution_count": 17,
      "outputs": [
        {
          "output_type": "stream",
          "text": [
            "Training on GPU!\n"
          ],
          "name": "stdout"
        }
      ]
    },
    {
      "cell_type": "code",
      "metadata": {
        "id": "eJCmPMh_CVS9",
        "colab_type": "code",
        "colab": {}
      },
      "source": [
        "class CharRNN(nn.Module):\n",
        "    \n",
        "    def __init__(self, tokens, n_hidden=256, n_layers=2,\n",
        "                               drop_prob=0.5, lr=0.001):\n",
        "        super().__init__()\n",
        "        self.drop_prob = drop_prob\n",
        "        self.n_layers = n_layers\n",
        "        self.n_hidden = n_hidden\n",
        "        self.lr = lr\n",
        "        \n",
        "        # creating character dictionaries\n",
        "        self.chars = tokens\n",
        "        self.int2char = dict(enumerate(self.chars))\n",
        "        self.char2int = {ch: ii for ii, ch in self.int2char.items()}\n",
        "        \n",
        "        ## TODO: define the LSTM\n",
        "        self.lstm = nn.LSTM(len(self.chars), n_hidden, n_layers, \n",
        "                            dropout=drop_prob, batch_first=True)\n",
        "        \n",
        "        ## TODO: define a dropout layer\n",
        "        self.dropout = nn.Dropout(drop_prob)\n",
        "        \n",
        "        ## TODO: define the final, fully-connected output layer\n",
        "        self.fc = nn.Linear(n_hidden, len(self.chars))\n",
        "      \n",
        "    \n",
        "    def forward(self, x, hidden):\n",
        "        ''' Forward pass through the network. \n",
        "            These inputs are x, and the hidden/cell state `hidden`. '''\n",
        "                \n",
        "        ## TODO: Get the outputs and the new hidden state from the lstm\n",
        "        r_output, hidden = self.lstm(x, hidden)\n",
        "        \n",
        "        ## TODO: pass through a dropout layer\n",
        "        out = self.dropout(r_output)\n",
        "        \n",
        "        # Stack up LSTM outputs using view\n",
        "        # you may need to use contiguous to reshape the output\n",
        "        out = out.contiguous().view(-1, self.n_hidden)\n",
        "\n",
        "        ## TODO: put x through the fully-connected layer\n",
        "        out = self.fc(out)\n",
        "        \n",
        "        # return the final output and the hidden state\n",
        "        return out, hidden\n",
        "    \n",
        "    \n",
        "    def init_hidden(self, batch_size):\n",
        "        ''' Initializes hidden state '''\n",
        "        # Create two new tensors with sizes n_layers x batch_size x n_hidden,\n",
        "        # initialized to zero, for hidden state and cell state of LSTM\n",
        "        weight = next(self.parameters()).data\n",
        "        \n",
        "        if (train_on_gpu):\n",
        "            hidden = (weight.new(self.n_layers, batch_size, self.n_hidden).zero_().cuda(),\n",
        "                  weight.new(self.n_layers, batch_size, self.n_hidden).zero_().cuda())\n",
        "        else:\n",
        "            hidden = (weight.new(self.n_layers, batch_size, self.n_hidden).zero_(),\n",
        "                      weight.new(self.n_layers, batch_size, self.n_hidden).zero_())\n",
        "        \n",
        "        return hidden\n",
        "\n",
        "\n",
        "\n",
        "        "
      ],
      "execution_count": 0,
      "outputs": []
    },
    {
      "cell_type": "code",
      "metadata": {
        "id": "3PZAE3R7DKbO",
        "colab_type": "code",
        "colab": {}
      },
      "source": [
        "def train(net, data, epochs=10, batch_size=10, seq_length=50, lr=0.001, clip=5, val_frac=0.1, print_every=10):\n",
        "    ''' Training a network \n",
        "    \n",
        "        Arguments\n",
        "        ---------\n",
        "        \n",
        "        net: CharRNN network\n",
        "        data: text data to train the network\n",
        "        epochs: Number of epochs to train\n",
        "        batch_size: Number of mini-sequences per mini-batch, aka batch size\n",
        "        seq_length: Number of character steps per mini-batch\n",
        "        lr: learning rate\n",
        "        clip: gradient clipping\n",
        "        val_frac: Fraction of data to hold out for validation\n",
        "        print_every: Number of steps for printing training and validation loss\n",
        "    \n",
        "    '''\n",
        "    net.train()\n",
        "    \n",
        "    opt = torch.optim.Adam(net.parameters(), lr=lr)\n",
        "    criterion = nn.CrossEntropyLoss()\n",
        "    \n",
        "    # create training and validation data\n",
        "    val_idx = int(len(data)*(1-val_frac))\n",
        "    data, val_data = data[:val_idx], data[val_idx:]\n",
        "    \n",
        "\n",
        "\n",
        "\n",
        "\n",
        "    if(train_on_gpu):\n",
        "        net.cuda()\n",
        "    \n",
        "    counter = 0\n",
        "    n_chars = len(net.chars)\n",
        "    for e in range(epochs):\n",
        "        # initialize hidden state\n",
        "        h = net.init_hidden(batch_size)\n",
        "        \n",
        "        for x, y in get_batches(data, batch_size, seq_length):\n",
        "            counter += 1\n",
        "            \n",
        "            # One-hot encode our data and make them Torch tensors\n",
        "            x = one_hot_encode(x, n_chars)\n",
        "            inputs, targets = torch.from_numpy(x), torch.from_numpy(y)\n",
        "            \n",
        "            if(train_on_gpu):\n",
        "                inputs, targets = inputs.cuda(), targets.cuda()\n",
        "\n",
        "            # Creating new variables for the hidden state, otherwise\n",
        "            # we'd backprop through the entire training history\n",
        "            h = tuple([each.data for each in h])\n",
        "\n",
        "            # zero accumulated gradients\n",
        "            net.zero_grad()\n",
        "            \n",
        "            # get the output from the model\n",
        "            output, h = net(inputs, h)\n",
        "            \n",
        "            # calculate the loss and perform backprop\n",
        "            loss = criterion(output, targets.view(batch_size*seq_length).long())\n",
        "            loss.backward()\n",
        "            # `clip_grad_norm` helps prevent the exploding gradient problem in RNNs / LSTMs.\n",
        "            nn.utils.clip_grad_norm_(net.parameters(), clip)\n",
        "            opt.step()\n",
        "            \n",
        "            # loss stats\n",
        "            if counter % print_every == 0:\n",
        "                # Get validation loss\n",
        "                val_h = net.init_hidden(batch_size)\n",
        "                val_losses = []\n",
        "                net.eval()\n",
        "                for x, y in get_batches(val_data, batch_size, seq_length):\n",
        "                    # One-hot encode our data and make them Torch tensors\n",
        "                    x = one_hot_encode(x, n_chars)\n",
        "                    x, y = torch.from_numpy(x), torch.from_numpy(y)\n",
        "                    \n",
        "                    # Creating new variables for the hidden state, otherwise\n",
        "                    # we'd backprop through the entire training history\n",
        "                    val_h = tuple([each.data for each in val_h])\n",
        "                    \n",
        "                    inputs, targets = x, y\n",
        "                    if(train_on_gpu):\n",
        "                        inputs, targets = inputs.cuda(), targets.cuda()\n",
        "\n",
        "                    output, val_h = net(inputs, val_h)\n",
        "                    val_loss = criterion(output, targets.view(batch_size*seq_length).long())\n",
        "                \n",
        "                    val_losses.append(val_loss.item())\n",
        "                \n",
        "                net.train() # reset to train mode after iterationg through validation data\n",
        "                \n",
        "                print(\"Epoch: {}/{}...\".format(e+1, epochs),\n",
        "                      \"Step: {}...\".format(counter),\n",
        "                      \"Loss: {:.4f}...\".format(loss.item()),\n",
        "                      \"Val Loss: {:.4f}\".format(np.mean(val_losses)))\n",
        "\n",
        "           "
      ],
      "execution_count": 0,
      "outputs": []
    },
    {
      "cell_type": "code",
      "metadata": {
        "id": "dFaq8bfjDzhU",
        "colab_type": "code",
        "colab": {
          "base_uri": "https://localhost:8080/",
          "height": 102
        },
        "outputId": "ed6df108-68c0-4eb1-db39-1636015e8ba6"
      },
      "source": [
        "\n",
        "# define and print the net\n",
        "n_hidden=512\n",
        "n_layers=2\n",
        "\n",
        "net = CharRNN(chars, n_hidden, n_layers)\n",
        "print(net)"
      ],
      "execution_count": 22,
      "outputs": [
        {
          "output_type": "stream",
          "text": [
            "CharRNN(\n",
            "  (lstm): LSTM(78, 512, num_layers=2, batch_first=True, dropout=0.5)\n",
            "  (dropout): Dropout(p=0.5)\n",
            "  (fc): Linear(in_features=512, out_features=78, bias=True)\n",
            ")\n"
          ],
          "name": "stdout"
        }
      ]
    },
    {
      "cell_type": "code",
      "metadata": {
        "id": "r1Ph7JExD5gc",
        "colab_type": "code",
        "colab": {
          "base_uri": "https://localhost:8080/",
          "height": 241
        },
        "outputId": "c1ebecb8-2ee1-4b93-a977-d293b7da31ae"
      },
      "source": [
        "batch_size = 128\n",
        "seq_length = 100\n",
        "n_epochs = 20 # start smaller if you are just testing initial behavior\n",
        "\n",
        "# train the model\n",
        "train(net, encoded, epochs=n_epochs, batch_size=batch_size, seq_length=seq_length, lr=0.001, print_every=10)"
      ],
      "execution_count": 23,
      "outputs": [
        {
          "output_type": "stream",
          "text": [
            "/usr/local/lib/python3.6/dist-packages/numpy/core/fromnumeric.py:3118: RuntimeWarning: Mean of empty slice.\n",
            "  out=out, **kwargs)\n",
            "/usr/local/lib/python3.6/dist-packages/numpy/core/_methods.py:85: RuntimeWarning: invalid value encountered in double_scalars\n",
            "  ret = ret.dtype.type(ret / rcount)\n"
          ],
          "name": "stderr"
        },
        {
          "output_type": "stream",
          "text": [
            "Epoch: 3/20... Step: 10... Loss: 3.2210... Val Loss: nan\n",
            "Epoch: 5/20... Step: 20... Loss: 3.1389... Val Loss: nan\n",
            "Epoch: 8/20... Step: 30... Loss: 3.1285... Val Loss: nan\n",
            "Epoch: 10/20... Step: 40... Loss: 3.1041... Val Loss: nan\n",
            "Epoch: 13/20... Step: 50... Loss: 3.1117... Val Loss: nan\n",
            "Epoch: 15/20... Step: 60... Loss: 3.0926... Val Loss: nan\n",
            "Epoch: 18/20... Step: 70... Loss: 3.0989... Val Loss: nan\n",
            "Epoch: 20/20... Step: 80... Loss: 3.0758... Val Loss: nan\n"
          ],
          "name": "stdout"
        }
      ]
    },
    {
      "cell_type": "code",
      "metadata": {
        "id": "hoZGzaV7D-Tg",
        "colab_type": "code",
        "colab": {}
      },
      "source": [
        "# change the name, for saving multiple files\n",
        "model_name = 'rnn_20_epoch.net'\n",
        "\n",
        "checkpoint = {'n_hidden': net.n_hidden,\n",
        "              'n_layers': net.n_layers,\n",
        "              'state_dict': net.state_dict(),\n",
        "              'tokens': net.chars}\n",
        "\n",
        "with open(model_name, 'wb') as f:\n",
        "    torch.save(checkpoint, f)"
      ],
      "execution_count": 0,
      "outputs": []
    },
    {
      "cell_type": "code",
      "metadata": {
        "id": "vnAD-PHFEILp",
        "colab_type": "code",
        "colab": {}
      },
      "source": [
        "def predict(net, char, h=None, top_k=None):\n",
        "        ''' Given a character, predict the next character.\n",
        "            Returns the predicted character and the hidden state.\n",
        "        '''\n",
        "        \n",
        "        # tensor inputs\n",
        "        x = np.array([[net.char2int[char]]])\n",
        "        x = one_hot_encode(x, len(net.chars))\n",
        "        inputs = torch.from_numpy(x)\n",
        "        \n",
        "        if(train_on_gpu):\n",
        "            inputs = inputs.cuda()\n",
        "        \n",
        "        # detach hidden state from history\n",
        "        h = tuple([each.data for each in h])\n",
        "        # get the output of the model\n",
        "        out, h = net(inputs, h)\n",
        "\n",
        "        # get the character probabilities\n",
        "        p = F.softmax(out, dim=1).data\n",
        "        if(train_on_gpu):\n",
        "            p = p.cpu() # move to cpu\n",
        "        \n",
        "        # get top characters\n",
        "        if top_k is None:\n",
        "            top_ch = np.arange(len(net.chars))\n",
        "        else:\n",
        "            p, top_ch = p.topk(top_k)\n",
        "            top_ch = top_ch.numpy().squeeze()\n",
        "        \n",
        "        # select the likely next character with some element of randomness\n",
        "        p = p.numpy().squeeze()\n",
        "        char = np.random.choice(top_ch, p=p/p.sum())\n",
        "        \n",
        "        # return the encoded value of the predicted char and the hidden state\n",
        "        return net.int2char[char], h"
      ],
      "execution_count": 0,
      "outputs": []
    },
    {
      "cell_type": "code",
      "metadata": {
        "id": "OaCghaldEWvW",
        "colab_type": "code",
        "colab": {}
      },
      "source": [
        "def sample(net, size, prime='The', top_k=None):\n",
        "        \n",
        "    if(train_on_gpu):\n",
        "        net.cuda()\n",
        "    else:\n",
        "        net.cpu()\n",
        "    \n",
        "    net.eval() # eval mode\n",
        "    \n",
        "    # First off, run through the prime characters\n",
        "    chars = [ch for ch in prime]\n",
        "    h = net.init_hidden(1)\n",
        "    for ch in prime:\n",
        "        char, h = predict(net, ch, h, top_k=top_k)\n",
        "\n",
        "    chars.append(char)\n",
        "    \n",
        "    # Now pass in the previous character and get a new one\n",
        "    for ii in range(size):\n",
        "        char, h = predict(net, chars[-1], h, top_k=top_k)\n",
        "        chars.append(char)\n",
        "\n",
        "    return ''.join(chars)"
      ],
      "execution_count": 0,
      "outputs": []
    },
    {
      "cell_type": "code",
      "metadata": {
        "id": "04xPhNnWEdwC",
        "colab_type": "code",
        "colab": {
          "base_uri": "https://localhost:8080/",
          "height": 54
        },
        "outputId": "11561c9d-3522-4be7-fb26-9ef402a2681b"
      },
      "source": [
        "\n",
        "print(sample(net, 1000, prime='man', top_k=5))"
      ],
      "execution_count": 28,
      "outputs": [
        {
          "output_type": "stream",
          "text": [
            "mantettt eeatte ee otoe t ao oaatee   eo e eoo    eeato tee attoeetaa o t o oe etottta   tteatoo t a toe  ee   tt o      ea t ett ao  ee   o a      a otoo   a   tee  ete etatt a eoae taeteo  t aaa te to tto  t e oaea o aa  a o aeo  e tot t o a   eeaet  t   e  ao  otao t a otee  tat ae  aa  ae oae e    t  t  ae a e  a  tao tt oao et    oe   oeo teet e  tto ae et e  oa eott  atoee e at a oooteaoe tttaea ee e    eot t teoe  t  ot eoetao oe a ee eaa  e t t a ae  tao tott oeotte ea tae  t ee  ot a  te  oet  a  ttatote  eet e aaa  e t aet eao t e a ae  e    ot o      t att  aatttoa e e  te   eat  tte eae   ee  a  e  a  oaeat oa  o  e ea oeo  te e eeaoatoae e  ato     o   oaoa  ottaooee  tt e tae a   tot  e e eo et  e  ott ao  o otatooe oe  t  o eee o aatoeeaeat eteooe aot aootea a  a  to oee teeaea e taeo tte  oa ot ea a   ot aoeta e   to e te t   o   e  ta  etto  aoe oat aoe aeto tet toa a ateeee  et oata  a te  o ooeo o otete o    aea eeet e  ao  eooo t  et ato a  ett t o eoa  eee  e t   t o o\n"
          ],
          "name": "stdout"
        }
      ]
    },
    {
      "cell_type": "code",
      "metadata": {
        "id": "RXR2Yty4Exbc",
        "colab_type": "code",
        "colab": {
          "base_uri": "https://localhost:8080/",
          "height": 34
        },
        "outputId": "4f55f9d3-e4ff-4f06-ef9e-de71c3929063"
      },
      "source": [
        "# Here we have loaded in a model that trained over 20 epochs `rnn_20_epoch.net`\n",
        "with open('rnn_20_epoch.net', 'rb') as f:\n",
        "    checkpoint = torch.load(f)\n",
        "    \n",
        "loaded = CharRNN(checkpoint['tokens'], n_hidden=checkpoint['n_hidden'], n_layers=checkpoint['n_layers'])\n",
        "loaded.load_state_dict(checkpoint['state_dict'])"
      ],
      "execution_count": 34,
      "outputs": [
        {
          "output_type": "execute_result",
          "data": {
            "text/plain": [
              "IncompatibleKeys(missing_keys=[], unexpected_keys=[])"
            ]
          },
          "metadata": {
            "tags": []
          },
          "execution_count": 34
        }
      ]
    },
    {
      "cell_type": "code",
      "metadata": {
        "id": "QjnaLUlXE3ii",
        "colab_type": "code",
        "colab": {
          "base_uri": "https://localhost:8080/",
          "height": 54
        },
        "outputId": "60086f7e-f773-4123-bf6b-a01a3b35f62f"
      },
      "source": [
        "# Sample using a loaded model\n",
        "print(sample(loaded, 2000, top_k=5, prime=\"clean place\"))"
      ],
      "execution_count": 35,
      "outputs": [
        {
          "output_type": "stream",
          "text": [
            "clean placet  eetaea ee  e ee aot  t t eo e  ae  e  te tet o tattt  att e etoeta a eaa  ttt  oaa o oo a ae  toaa e a  ta taa e o  eoooto taotaaaataeotteaeaoteee  aaat   e ea e  ot      o eteaoeaa att etootae  otoetaa oe   aaae  e e aottee t eae et e et o et oe  aoo oaat  tot eee  a   e oe eeo    eaooa e otta    ta   e  e aeo toeeao aoatt   oet eea  eoee  aatooa e  oaet   t o e aeao o ao  to  eaat  e e tee teea  t teao to a toa  oottoo at e  ee      eoteoe a et  t   aoe o t  e   eo    oe a o ooeote  toeoa  o oe te o  e aeet e oteottete  aee  aeot ae etee to    e e  eetet  o  tete tott a t e oot toaaa ee  oea  ea to toe e a otaoe  e aa e ta aee ot eeeae    eetat  tooe  e ot  tta o  oe o   o ea   eaa  o aaoeeattet a a e att taee  ae  tat te    t a  ao t    t e eate ae t  et t     teao aaeao t to o  e eoo  aa eteee  o a eae eoa eet   eeoaoteta tt ae ee eoettto  o ett    ao tte  toatao  a e e  toaoo  ooa eeat ot ott ette  tetoo oe   ott e o  ee oataa   e   eta tte ae   o  tae oeoto tee tta      a  te t aoto ao oooea  tt  oe a  ae   aeta  ao a   oa t a t t  e  ae oeo e  o eoo  toaa  tee   at ao aeaete   ateo to e   o  et  eaaet tee toe t  a toaotao ao  tt ot ta    o at t   ea a  a te to oae   a e o etea oaa       eeeet  eeot at eo  ett attao   eta oa eoet e  aee  eoo eeoo tto aoo o ot t e  ae  e oeae tt   eaott o oo   o ae a o eeetettaaat oaaat eaeo  t  t te aott e o eett ta oo tteeaeoao taeeo  eott ee a t tee ao oeta tte tt o et e eaa oe t oae eo eoao o a etee ee taa  t  o ao ee ta    a  tetaatooea eoeta    eo o att  e aooo  ao oaeeoee  aae  ee t t ee aaeo  attt  a  oaeo a ae e t oo e   eaeato oe taete   t   e  eoo o a       toeeta ae t   ttt  eaoetaee te te a aa a a  o  e ttaate    oe  o e t o o  eoet oe t e ea ata oe a a ta tttto  eeet t oeee aee   oe ateaoatt e  at   tota ttt  e ooaeet  t aee o    to   e a e toe a  o o t  e otet  oe ee e oteettt eeooo te  at ee  t  t teoatotoeetetotat tee  o  tao  o  o oo  e a a o e ee o o  t  ot te e  ae  e  etate  toe o te  oo tteote o e tt a o\n"
          ],
          "name": "stdout"
        }
      ]
    }
  ]
}