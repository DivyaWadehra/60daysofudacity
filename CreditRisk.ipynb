{
  "nbformat": 4,
  "nbformat_minor": 0,
  "metadata": {
    "colab": {
      "name": "CreditRisk.ipynb",
      "version": "0.3.2",
      "provenance": [],
      "include_colab_link": true
    },
    "kernelspec": {
      "name": "python3",
      "display_name": "Python 3"
    }
  },
  "cells": [
    {
      "cell_type": "markdown",
      "metadata": {
        "id": "view-in-github",
        "colab_type": "text"
      },
      "source": [
        "<a href=\"https://colab.research.google.com/github/reallygooday/60daysofudacity/blob/master/CreditRisk.ipynb\" target=\"_parent\"><img src=\"https://colab.research.google.com/assets/colab-badge.svg\" alt=\"Open In Colab\"/></a>"
      ]
    },
    {
      "cell_type": "code",
      "metadata": {
        "id": "K_frTMaijSgR",
        "colab_type": "code",
        "colab": {
          "base_uri": "https://localhost:8080/",
          "height": 122
        },
        "outputId": "aefdabc2-848f-4f4a-c09d-b3fe5a8c7702"
      },
      "source": [
        "from google.colab import drive\n",
        "drive.mount('/content/drive')\n"
      ],
      "execution_count": 1,
      "outputs": [
        {
          "output_type": "stream",
          "text": [
            "Go to this URL in a browser: https://accounts.google.com/o/oauth2/auth?client_id=947318989803-6bn6qk8qdgf4n4g3pfee6491hc0brc4i.apps.googleusercontent.com&redirect_uri=urn%3Aietf%3Awg%3Aoauth%3A2.0%3Aoob&scope=email%20https%3A%2F%2Fwww.googleapis.com%2Fauth%2Fdocs.test%20https%3A%2F%2Fwww.googleapis.com%2Fauth%2Fdrive%20https%3A%2F%2Fwww.googleapis.com%2Fauth%2Fdrive.photos.readonly%20https%3A%2F%2Fwww.googleapis.com%2Fauth%2Fpeopleapi.readonly&response_type=code\n",
            "\n",
            "Enter your authorization code:\n",
            "··········\n",
            "Mounted at /content/drive\n"
          ],
          "name": "stdout"
        }
      ]
    },
    {
      "cell_type": "code",
      "metadata": {
        "id": "vfoLV2nqjgMq",
        "colab_type": "code",
        "colab": {}
      },
      "source": [
        "# import resources\n",
        "%matplotlib inline\n",
        "\n",
        "from PIL import Image\n",
        "from io import BytesIO\n",
        "import matplotlib.pyplot as plt\n",
        "import numpy as np\n",
        "\n",
        "import torch\n",
        "import torch.optim as optim\n",
        "import requests\n",
        "from torchvision import transforms, models"
      ],
      "execution_count": 0,
      "outputs": []
    },
    {
      "cell_type": "markdown",
      "metadata": {
        "id": "FEA2PMi6kpz2",
        "colab_type": "text"
      },
      "source": [
        "https://www.lendingclub.com"
      ]
    },
    {
      "cell_type": "code",
      "metadata": {
        "id": "a8E6XHf2jggZ",
        "colab_type": "code",
        "colab": {
          "base_uri": "https://localhost:8080/",
          "height": 989
        },
        "outputId": "098e0e09-027a-4158-d9c5-c4983a9945c5"
      },
      "source": [
        "import pandas as pd\n",
        "loans_2007 = pd.read_csv(\"/content/drive/My Drive/loans_2007.csv\")\n",
        "loans_2007.drop_duplicates()\n",
        "print(loans_2007.iloc[0])\n",
        "print(loans_2007.shape[1])"
      ],
      "execution_count": 3,
      "outputs": [
        {
          "output_type": "stream",
          "text": [
            "/usr/local/lib/python3.6/dist-packages/IPython/core/interactiveshell.py:2718: DtypeWarning: Columns (0) have mixed types. Specify dtype option on import or set low_memory=False.\n",
            "  interactivity=interactivity, compiler=compiler, result=result)\n"
          ],
          "name": "stderr"
        },
        {
          "output_type": "stream",
          "text": [
            "id                                1077501\n",
            "member_id                      1.2966e+06\n",
            "loan_amnt                            5000\n",
            "funded_amnt                          5000\n",
            "funded_amnt_inv                      4975\n",
            "term                            36 months\n",
            "int_rate                           10.65%\n",
            "installment                        162.87\n",
            "grade                                   B\n",
            "sub_grade                              B2\n",
            "emp_title                             NaN\n",
            "emp_length                      10+ years\n",
            "home_ownership                       RENT\n",
            "annual_inc                          24000\n",
            "verification_status              Verified\n",
            "issue_d                          Dec-2011\n",
            "loan_status                    Fully Paid\n",
            "pymnt_plan                              n\n",
            "purpose                       credit_card\n",
            "title                            Computer\n",
            "zip_code                            860xx\n",
            "addr_state                             AZ\n",
            "dti                                 27.65\n",
            "delinq_2yrs                             0\n",
            "earliest_cr_line                 Jan-1985\n",
            "inq_last_6mths                          1\n",
            "open_acc                                3\n",
            "pub_rec                                 0\n",
            "revol_bal                           13648\n",
            "revol_util                          83.7%\n",
            "total_acc                               9\n",
            "initial_list_status                     f\n",
            "out_prncp                               0\n",
            "out_prncp_inv                           0\n",
            "total_pymnt                       5863.16\n",
            "total_pymnt_inv                   5833.84\n",
            "total_rec_prncp                      5000\n",
            "total_rec_int                      863.16\n",
            "total_rec_late_fee                      0\n",
            "recoveries                              0\n",
            "collection_recovery_fee                 0\n",
            "last_pymnt_d                     Jan-2015\n",
            "last_pymnt_amnt                    171.62\n",
            "last_credit_pull_d               Jun-2016\n",
            "collections_12_mths_ex_med              0\n",
            "policy_code                             1\n",
            "application_type               INDIVIDUAL\n",
            "acc_now_delinq                          0\n",
            "chargeoff_within_12_mths                0\n",
            "delinq_amnt                             0\n",
            "pub_rec_bankruptcies                    0\n",
            "tax_liens                               0\n",
            "Name: 0, dtype: object\n",
            "52\n"
          ],
          "name": "stdout"
        }
      ]
    },
    {
      "cell_type": "code",
      "metadata": {
        "id": "UGSKLAkuk6FV",
        "colab_type": "code",
        "colab": {}
      },
      "source": [
        "loans_2007 = loans_2007.drop([\"id\", \"member_id\", \"funded_amnt\", \"funded_amnt_inv\", \"grade\", \"sub_grade\", \"emp_title\", \"issue_d\"], axis=1)"
      ],
      "execution_count": 0,
      "outputs": []
    },
    {
      "cell_type": "code",
      "metadata": {
        "id": "3Fb47wTrlHbC",
        "colab_type": "code",
        "colab": {}
      },
      "source": [
        "loans_2007 = loans_2007.drop([\"zip_code\", \"out_prncp\", \"out_prncp_inv\", \"total_pymnt\", \"total_pymnt_inv\", \"total_rec_prncp\"], axis=1)"
      ],
      "execution_count": 0,
      "outputs": []
    },
    {
      "cell_type": "code",
      "metadata": {
        "id": "EQeC6YOtlHtg",
        "colab_type": "code",
        "colab": {
          "base_uri": "https://localhost:8080/",
          "height": 595
        },
        "outputId": "b9e983a6-3a53-4886-a2b9-2091ff4651f0"
      },
      "source": [
        "loans_2007 = loans_2007.drop([\"total_rec_int\", \"total_rec_late_fee\", \"recoveries\", \"collection_recovery_fee\", \"last_pymnt_d\", \"last_pymnt_amnt\"], axis=1)\n",
        "print(loans_2007.iloc[0])\n",
        "print(loans_2007.shape[1])"
      ],
      "execution_count": 6,
      "outputs": [
        {
          "output_type": "stream",
          "text": [
            "loan_amnt                            5000\n",
            "term                            36 months\n",
            "int_rate                           10.65%\n",
            "installment                        162.87\n",
            "emp_length                      10+ years\n",
            "home_ownership                       RENT\n",
            "annual_inc                          24000\n",
            "verification_status              Verified\n",
            "loan_status                    Fully Paid\n",
            "pymnt_plan                              n\n",
            "purpose                       credit_card\n",
            "title                            Computer\n",
            "addr_state                             AZ\n",
            "dti                                 27.65\n",
            "delinq_2yrs                             0\n",
            "earliest_cr_line                 Jan-1985\n",
            "inq_last_6mths                          1\n",
            "open_acc                                3\n",
            "pub_rec                                 0\n",
            "revol_bal                           13648\n",
            "revol_util                          83.7%\n",
            "total_acc                               9\n",
            "initial_list_status                     f\n",
            "last_credit_pull_d               Jun-2016\n",
            "collections_12_mths_ex_med              0\n",
            "policy_code                             1\n",
            "application_type               INDIVIDUAL\n",
            "acc_now_delinq                          0\n",
            "chargeoff_within_12_mths                0\n",
            "delinq_amnt                             0\n",
            "pub_rec_bankruptcies                    0\n",
            "tax_liens                               0\n",
            "Name: 0, dtype: object\n",
            "32\n"
          ],
          "name": "stdout"
        }
      ]
    },
    {
      "cell_type": "code",
      "metadata": {
        "id": "I6TVULiDlWRD",
        "colab_type": "code",
        "colab": {
          "base_uri": "https://localhost:8080/",
          "height": 187
        },
        "outputId": "5545db83-11bb-475c-ea53-702acca85976"
      },
      "source": [
        "print(loans_2007['loan_status'].value_counts())"
      ],
      "execution_count": 7,
      "outputs": [
        {
          "output_type": "stream",
          "text": [
            "Fully Paid                                             33136\n",
            "Charged Off                                             5634\n",
            "Does not meet the credit policy. Status:Fully Paid      1988\n",
            "Current                                                  961\n",
            "Does not meet the credit policy. Status:Charged Off      761\n",
            "Late (31-120 days)                                        24\n",
            "In Grace Period                                           20\n",
            "Late (16-30 days)                                          8\n",
            "Default                                                    3\n",
            "Name: loan_status, dtype: int64\n"
          ],
          "name": "stdout"
        }
      ]
    },
    {
      "cell_type": "code",
      "metadata": {
        "id": "ATkt5wfClc5r",
        "colab_type": "code",
        "colab": {}
      },
      "source": [
        "loans_2007 = loans_2007[(loans_2007['loan_status'] == \"Fully Paid\") | (loans_2007['loan_status'] == \"Charged Off\")]\n",
        "\n",
        "status_replace = {\n",
        "    \"loan_status\" : {\n",
        "        \"Fully Paid\": 1,\n",
        "        \"Charged Off\": 0,\n",
        "    }\n",
        "}\n",
        "\n",
        "loans_2007 = loans_2007.replace(status_replace)"
      ],
      "execution_count": 0,
      "outputs": []
    },
    {
      "cell_type": "code",
      "metadata": {
        "id": "bTLaEiMnllew",
        "colab_type": "code",
        "colab": {
          "base_uri": "https://localhost:8080/",
          "height": 54
        },
        "outputId": "a8b69a34-b581-471c-8f8a-c3bc6f1debcb"
      },
      "source": [
        "orig_columns = loans_2007.columns\n",
        "drop_columns = []\n",
        "for col in orig_columns:\n",
        "    col_series = loans_2007[col].dropna().unique()\n",
        "    if len(col_series) == 1:\n",
        "        drop_columns.append(col)\n",
        "loans_2007 = loans_2007.drop(drop_columns, axis=1)\n",
        "print(drop_columns)"
      ],
      "execution_count": 9,
      "outputs": [
        {
          "output_type": "stream",
          "text": [
            "['pymnt_plan', 'initial_list_status', 'collections_12_mths_ex_med', 'policy_code', 'application_type', 'acc_now_delinq', 'chargeoff_within_12_mths', 'delinq_amnt', 'tax_liens']\n"
          ],
          "name": "stdout"
        }
      ]
    },
    {
      "cell_type": "code",
      "metadata": {
        "id": "lqHIK3Khlqc2",
        "colab_type": "code",
        "colab": {
          "base_uri": "https://localhost:8080/",
          "height": 765
        },
        "outputId": "29754c9c-735d-4605-81ff-def18ba0b893"
      },
      "source": [
        "import pandas as pd\n",
        "loans = pd.read_csv(\"/content/drive/My Drive/cleaned_loans_2007.csv\")\n",
        "print(loans.info())"
      ],
      "execution_count": 11,
      "outputs": [
        {
          "output_type": "stream",
          "text": [
            "<class 'pandas.core.frame.DataFrame'>\n",
            "RangeIndex: 38708 entries, 0 to 38707\n",
            "Data columns (total 38 columns):\n",
            "loan_amnt                              38708 non-null float64\n",
            "int_rate                               38708 non-null float64\n",
            "installment                            38708 non-null float64\n",
            "emp_length                             38708 non-null int64\n",
            "annual_inc                             38708 non-null float64\n",
            "loan_status                            38708 non-null int64\n",
            "dti                                    38708 non-null float64\n",
            "delinq_2yrs                            38708 non-null float64\n",
            "inq_last_6mths                         38708 non-null float64\n",
            "open_acc                               38708 non-null float64\n",
            "pub_rec                                38708 non-null float64\n",
            "revol_bal                              38708 non-null float64\n",
            "revol_util                             38708 non-null float64\n",
            "total_acc                              38708 non-null float64\n",
            "home_ownership_MORTGAGE                38708 non-null float64\n",
            "home_ownership_NONE                    38708 non-null float64\n",
            "home_ownership_OTHER                   38708 non-null float64\n",
            "home_ownership_OWN                     38708 non-null float64\n",
            "home_ownership_RENT                    38708 non-null float64\n",
            "verification_status_Not Verified       38708 non-null float64\n",
            "verification_status_Source Verified    38708 non-null float64\n",
            "verification_status_Verified           38708 non-null float64\n",
            "purpose_car                            38708 non-null float64\n",
            "purpose_credit_card                    38708 non-null float64\n",
            "purpose_debt_consolidation             38708 non-null float64\n",
            "purpose_educational                    38708 non-null float64\n",
            "purpose_home_improvement               38708 non-null float64\n",
            "purpose_house                          38708 non-null float64\n",
            "purpose_major_purchase                 38708 non-null float64\n",
            "purpose_medical                        38708 non-null float64\n",
            "purpose_moving                         38708 non-null float64\n",
            "purpose_other                          38708 non-null float64\n",
            "purpose_renewable_energy               38708 non-null float64\n",
            "purpose_small_business                 38708 non-null float64\n",
            "purpose_vacation                       38708 non-null float64\n",
            "purpose_wedding                        38708 non-null float64\n",
            "term_ 36 months                        38708 non-null float64\n",
            "term_ 60 months                        38708 non-null float64\n",
            "dtypes: float64(36), int64(2)\n",
            "memory usage: 11.2 MB\n",
            "None\n"
          ],
          "name": "stdout"
        }
      ]
    },
    {
      "cell_type": "code",
      "metadata": {
        "id": "4CpV7iQcnceT",
        "colab_type": "code",
        "colab": {
          "base_uri": "https://localhost:8080/",
          "height": 51
        },
        "outputId": "6ab5a953-62d8-4a92-b762-ad2d9ee3419d"
      },
      "source": [
        "import pandas as pd\n",
        "import numpy\n",
        "\n",
        "# Predict that all loans will be paid off on time.\n",
        "predictions = pd.Series(numpy.ones(loans.shape[0]))\n",
        "\n",
        "# False positives.\n",
        "fp_filter = (predictions == 1) & (loans[\"loan_status\"] == 0)\n",
        "fp = len(predictions[fp_filter])\n",
        "\n",
        "# True positives.\n",
        "tp_filter = (predictions == 1) & (loans[\"loan_status\"] == 1)\n",
        "tp = len(predictions[tp_filter])\n",
        "\n",
        "# False negatives.\n",
        "fn_filter = (predictions == 0) & (loans[\"loan_status\"] == 1)\n",
        "fn = len(predictions[fn_filter])\n",
        "\n",
        "# True negatives\n",
        "tn_filter = (predictions == 0) & (loans[\"loan_status\"] == 0)\n",
        "tn = len(predictions[tn_filter])\n",
        "# Rates\n",
        "tpr = tp / (tp + fn)\n",
        "fpr = fp / (fp + tn)\n",
        "\n",
        "print(tpr)\n",
        "print(fpr)"
      ],
      "execution_count": 15,
      "outputs": [
        {
          "output_type": "stream",
          "text": [
            "1.0\n",
            "1.0\n"
          ],
          "name": "stdout"
        }
      ]
    },
    {
      "cell_type": "code",
      "metadata": {
        "id": "3G9viIDbnphJ",
        "colab_type": "code",
        "colab": {
          "base_uri": "https://localhost:8080/",
          "height": 71
        },
        "outputId": "0bfa58d2-8f78-4c08-b151-939b2ed2afde"
      },
      "source": [
        "from sklearn.linear_model import LogisticRegression\n",
        "lr = LogisticRegression()\n",
        "cols = loans.columns\n",
        "train_cols = cols.drop(\"loan_status\")\n",
        "features = loans[train_cols]\n",
        "target = loans[\"loan_status\"]\n",
        "lr.fit(features, target)\n",
        "predictions = lr.predict(features)"
      ],
      "execution_count": 16,
      "outputs": [
        {
          "output_type": "stream",
          "text": [
            "/usr/local/lib/python3.6/dist-packages/sklearn/linear_model/logistic.py:432: FutureWarning: Default solver will be changed to 'lbfgs' in 0.22. Specify a solver to silence this warning.\n",
            "  FutureWarning)\n"
          ],
          "name": "stderr"
        }
      ]
    },
    {
      "cell_type": "code",
      "metadata": {
        "id": "btBFeknpnp7l",
        "colab_type": "code",
        "colab": {
          "base_uri": "https://localhost:8080/",
          "height": 173
        },
        "outputId": "e5cb7c5b-9aff-4284-fb2e-9c8c139b947c"
      },
      "source": [
        "from sklearn.linear_model import LogisticRegression\n",
        "from sklearn.model_selection import cross_val_predict\n",
        "lr = LogisticRegression()\n",
        "predictions = cross_val_predict(lr, features, target, cv=3)\n",
        "predictions = pd.Series(predictions)\n",
        "# False positives.\n",
        "fp_filter = (predictions == 1) & (loans[\"loan_status\"] == 0)\n",
        "fp = len(predictions[fp_filter])\n",
        "\n",
        "# True positives.\n",
        "tp_filter = (predictions == 1) & (loans[\"loan_status\"] == 1)\n",
        "tp = len(predictions[tp_filter])\n",
        "\n",
        "# False negatives.\n",
        "fn_filter = (predictions == 0) & (loans[\"loan_status\"] == 1)\n",
        "fn = len(predictions[fn_filter])\n",
        "\n",
        "# True negatives\n",
        "tn_filter = (predictions == 0) & (loans[\"loan_status\"] == 0)\n",
        "tn = len(predictions[tn_filter])\n",
        "# Rates\n",
        "tpr = tp  / (tp + fn)\n",
        "fpr = fp  / (fp + tn)\n",
        "print(tpr)\n",
        "print(fpr)"
      ],
      "execution_count": 17,
      "outputs": [
        {
          "output_type": "stream",
          "text": [
            "/usr/local/lib/python3.6/dist-packages/sklearn/linear_model/logistic.py:432: FutureWarning: Default solver will be changed to 'lbfgs' in 0.22. Specify a solver to silence this warning.\n",
            "  FutureWarning)\n",
            "/usr/local/lib/python3.6/dist-packages/sklearn/linear_model/logistic.py:432: FutureWarning: Default solver will be changed to 'lbfgs' in 0.22. Specify a solver to silence this warning.\n",
            "  FutureWarning)\n",
            "/usr/local/lib/python3.6/dist-packages/sklearn/linear_model/logistic.py:432: FutureWarning: Default solver will be changed to 'lbfgs' in 0.22. Specify a solver to silence this warning.\n",
            "  FutureWarning)\n"
          ],
          "name": "stderr"
        },
        {
          "output_type": "stream",
          "text": [
            "0.9987006315535008\n",
            "0.9964381121994658\n"
          ],
          "name": "stdout"
        }
      ]
    },
    {
      "cell_type": "code",
      "metadata": {
        "id": "DnbSj8JmozYS",
        "colab_type": "code",
        "colab": {
          "base_uri": "https://localhost:8080/",
          "height": 173
        },
        "outputId": "3f956793-f9b8-4c57-b5cf-1362beac0ea0"
      },
      "source": [
        "from sklearn.model_selection import cross_val_predict\n",
        "lr = LogisticRegression(class_weight=\"balanced\")\n",
        "predictions = cross_val_predict(lr, features, target, cv=3)\n",
        "predictions = pd.Series(predictions)\n",
        "\n",
        "# False positives.\n",
        "fp_filter = (predictions == 1) & (loans[\"loan_status\"] == 0)\n",
        "fp = len(predictions[fp_filter])\n",
        "\n",
        "# True positives.\n",
        "tp_filter = (predictions == 1) & (loans[\"loan_status\"] == 1)\n",
        "tp = len(predictions[tp_filter])\n",
        "\n",
        "# False negatives.\n",
        "fn_filter = (predictions == 0) & (loans[\"loan_status\"] == 1)\n",
        "fn = len(predictions[fn_filter])\n",
        "\n",
        "# True negatives\n",
        "tn_filter = (predictions == 0) & (loans[\"loan_status\"] == 0)\n",
        "tn = len(predictions[tn_filter])\n",
        "\n",
        "# Rates\n",
        "tpr = tp / (tp + fn)\n",
        "fpr = fp / (fp + tn)\n",
        "\n",
        "print(tpr)\n",
        "print(fpr)"
      ],
      "execution_count": 18,
      "outputs": [
        {
          "output_type": "stream",
          "text": [
            "/usr/local/lib/python3.6/dist-packages/sklearn/linear_model/logistic.py:432: FutureWarning: Default solver will be changed to 'lbfgs' in 0.22. Specify a solver to silence this warning.\n",
            "  FutureWarning)\n",
            "/usr/local/lib/python3.6/dist-packages/sklearn/linear_model/logistic.py:432: FutureWarning: Default solver will be changed to 'lbfgs' in 0.22. Specify a solver to silence this warning.\n",
            "  FutureWarning)\n",
            "/usr/local/lib/python3.6/dist-packages/sklearn/linear_model/logistic.py:432: FutureWarning: Default solver will be changed to 'lbfgs' in 0.22. Specify a solver to silence this warning.\n",
            "  FutureWarning)\n"
          ],
          "name": "stderr"
        },
        {
          "output_type": "stream",
          "text": [
            "0.659233070437857\n",
            "0.3834372217275156\n"
          ],
          "name": "stdout"
        }
      ]
    },
    {
      "cell_type": "code",
      "metadata": {
        "id": "0d-1l2AToztU",
        "colab_type": "code",
        "colab": {
          "base_uri": "https://localhost:8080/",
          "height": 173
        },
        "outputId": "f3b8e279-7762-4cdc-92f9-e342e4412a93"
      },
      "source": [
        "from sklearn.linear_model import LogisticRegression\n",
        "from sklearn.model_selection import cross_val_predict\n",
        "penalty = {\n",
        "    0: 10,\n",
        "    1: 1\n",
        "}\n",
        "lr = LogisticRegression(class_weight=penalty)\n",
        "predictions = cross_val_predict(lr, features, target, cv=3)\n",
        "predictions = pd.Series(predictions)\n",
        "\n",
        "# False positives.\n",
        "fp_filter = (predictions == 1) & (loans[\"loan_status\"] == 0)\n",
        "fp = len(predictions[fp_filter])\n",
        "\n",
        "# True positives.\n",
        "tp_filter = (predictions == 1) & (loans[\"loan_status\"] == 1)\n",
        "tp = len(predictions[tp_filter])\n",
        "\n",
        "# False negatives.\n",
        "fn_filter = (predictions == 0) & (loans[\"loan_status\"] == 1)\n",
        "fn = len(predictions[fn_filter])\n",
        "\n",
        "# True negatives\n",
        "tn_filter = (predictions == 0) & (loans[\"loan_status\"] == 0)\n",
        "tn = len(predictions[tn_filter])\n",
        "\n",
        "# Rates\n",
        "tpr = tp / (tp + fn)\n",
        "fpr = fp / (fp + tn)\n",
        "\n",
        "print(tpr)\n",
        "print(fpr)"
      ],
      "execution_count": 19,
      "outputs": [
        {
          "output_type": "stream",
          "text": [
            "/usr/local/lib/python3.6/dist-packages/sklearn/linear_model/logistic.py:432: FutureWarning: Default solver will be changed to 'lbfgs' in 0.22. Specify a solver to silence this warning.\n",
            "  FutureWarning)\n",
            "/usr/local/lib/python3.6/dist-packages/sklearn/linear_model/logistic.py:432: FutureWarning: Default solver will be changed to 'lbfgs' in 0.22. Specify a solver to silence this warning.\n",
            "  FutureWarning)\n",
            "/usr/local/lib/python3.6/dist-packages/sklearn/linear_model/logistic.py:432: FutureWarning: Default solver will be changed to 'lbfgs' in 0.22. Specify a solver to silence this warning.\n",
            "  FutureWarning)\n"
          ],
          "name": "stderr"
        },
        {
          "output_type": "stream",
          "text": [
            "0.21738736288641103\n",
            "0.08138913624220837\n"
          ],
          "name": "stdout"
        }
      ]
    },
    {
      "cell_type": "code",
      "metadata": {
        "id": "WbzenpGIoz-s",
        "colab_type": "code",
        "colab": {
          "base_uri": "https://localhost:8080/",
          "height": 402
        },
        "outputId": "e57dd87e-443e-45bb-90d8-abd10513810c"
      },
      "source": [
        "!pip install -q sklearn.cross_validation \n",
        "\n",
        "from sklearn.model_selection import train_test_split\n",
        "from sklearn.model_selection import cross_val_score\n",
        "\n",
        "from sklearn.ensemble import RandomForestClassifier\n",
        "\n",
        "from sklearn.cross_validation import cross_val_predict\n",
        "\n",
        "\n",
        "rf = RandomForestClassifier(class_weight=\"balanced\", random_state=1)\n",
        "predictions = cross_val_predict(rf, features, target, cv=3)\n",
        "predictions = pd.Series(predictions)\n",
        "\n",
        "# False positives.\n",
        "fp_filter = (predictions == 1) & (loans[\"loan_status\"] == 0)\n",
        "fp = len(predictions[fp_filter])\n",
        "\n",
        "# True positives.`\n",
        "tp_filter = (predictions == 1) & (loans[\"loan_status\"] == 1)\n",
        "tp = len(predictions[tp_filter])\n",
        "\n",
        "# False negatives.\n",
        "fn_filter = (predictions == 0) & (loans[\"loan_status\"] == 1)\n",
        "fn = len(predictions[fn_filter])\n",
        "\n",
        "# True negatives\n",
        "tn_filter = (predictions == 0) & (loans[\"loan_status\"] == 0)\n",
        "tn = len(predictions[tn_filter])\n",
        "\n",
        "# Rates\n",
        "tpr = tp / (tp + fn)\n",
        "fpr = fp / (fp + tn)\n",
        "\n",
        "print(tpr)\n",
        "print(fpr)"
      ],
      "execution_count": 25,
      "outputs": [
        {
          "output_type": "stream",
          "text": [
            "\u001b[31m  ERROR: Could not find a version that satisfies the requirement sklearn.cross_validation (from versions: none)\u001b[0m\n",
            "\u001b[31mERROR: No matching distribution found for sklearn.cross_validation\u001b[0m\n"
          ],
          "name": "stdout"
        },
        {
          "output_type": "error",
          "ename": "ModuleNotFoundError",
          "evalue": "ignored",
          "traceback": [
            "\u001b[0;31m---------------------------------------------------------------------------\u001b[0m",
            "\u001b[0;31mModuleNotFoundError\u001b[0m                       Traceback (most recent call last)",
            "\u001b[0;32m<ipython-input-25-a1fe7bd5bce5>\u001b[0m in \u001b[0;36m<module>\u001b[0;34m()\u001b[0m\n\u001b[1;32m      6\u001b[0m \u001b[0;32mfrom\u001b[0m \u001b[0msklearn\u001b[0m\u001b[0;34m.\u001b[0m\u001b[0mensemble\u001b[0m \u001b[0;32mimport\u001b[0m \u001b[0mRandomForestClassifier\u001b[0m\u001b[0;34m\u001b[0m\u001b[0;34m\u001b[0m\u001b[0m\n\u001b[1;32m      7\u001b[0m \u001b[0;34m\u001b[0m\u001b[0m\n\u001b[0;32m----> 8\u001b[0;31m \u001b[0;32mfrom\u001b[0m \u001b[0msklearn\u001b[0m\u001b[0;34m.\u001b[0m\u001b[0mcross_validation\u001b[0m \u001b[0;32mimport\u001b[0m \u001b[0mcross_val_predict\u001b[0m\u001b[0;34m\u001b[0m\u001b[0;34m\u001b[0m\u001b[0m\n\u001b[0m\u001b[1;32m      9\u001b[0m \u001b[0;34m\u001b[0m\u001b[0m\n\u001b[1;32m     10\u001b[0m \u001b[0;34m\u001b[0m\u001b[0m\n",
            "\u001b[0;31mModuleNotFoundError\u001b[0m: No module named 'sklearn.cross_validation'",
            "",
            "\u001b[0;31m---------------------------------------------------------------------------\u001b[0;32m\nNOTE: If your import is failing due to a missing package, you can\nmanually install dependencies using either !pip or !apt.\n\nTo view examples of installing some common dependencies, click the\n\"Open Examples\" button below.\n\u001b[0;31m---------------------------------------------------------------------------\u001b[0m\n"
          ]
        }
      ]
    },
    {
      "cell_type": "code",
      "metadata": {
        "id": "snnkj3tRnc6z",
        "colab_type": "code",
        "colab": {}
      },
      "source": [
        ""
      ],
      "execution_count": 0,
      "outputs": []
    }
  ]
}